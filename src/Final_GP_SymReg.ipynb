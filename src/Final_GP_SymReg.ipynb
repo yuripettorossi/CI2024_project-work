{
 "cells": [
  {
   "cell_type": "markdown",
   "metadata": {
    "vscode": {
     "languageId": "plaintext"
    }
   },
   "source": [
    "# Symbolic Regression"
   ]
  },
  {
   "cell_type": "markdown",
   "metadata": {},
   "source": [
    "## 1. Imports libraries"
   ]
  },
  {
   "cell_type": "code",
   "execution_count": 43,
   "metadata": {},
   "outputs": [],
   "source": [
    "import numpy as np\n",
    "import random\n",
    "from copy import deepcopy\n",
    "import pandas as pd\n",
    "import plotly.graph_objects as go\n",
    "from random import choice\n",
    "import tqdm\n",
    "from sklearn.model_selection import KFold\n",
    "import plotly.graph_objects as go\n",
    "import plotly.io as pio\n",
    "\n",
    "np.seterr(all='ignore')  # ignore all numpy warnings, \n",
    "None"
   ]
  },
  {
   "cell_type": "markdown",
   "metadata": {},
   "source": [
    "## 2. Define Operators and Parameters Configuration"
   ]
  },
  {
   "cell_type": "code",
   "execution_count": 44,
   "metadata": {},
   "outputs": [],
   "source": [
    "# Define the set of operators that can be used in the GP algorithm.\n",
    "OPERATORS = [\n",
    "    {\"func_name\": \"add\", \"func\": np.add, \"arity\": 2, \"format_str\": \"({} + {})\"},\n",
    "    {\"func_name\": \"subtract\", \"func\": np.subtract, \"arity\": 2, \"format_str\": \"({} - {})\"},\n",
    "    {\"func_name\": \"arctan\", \"func\": np.arctan, \"arity\": 1, \"format_str\": \"arctan({})\"},\n",
    "    {\"func_name\": \"multiply\", \"func\": np.multiply, \"arity\": 2, \"format_str\": \"({} * {})\"},\n",
    "    {\"func_name\": \"divide\", \"func\": np.divide, \"arity\": 2, \"format_str\": \"({} / {})\"},\n",
    "    {\"func_name\": \"power\", \"func\": np.power, \"arity\": 2, \"format_str\": \"({} ** {})\"},\n",
    "    {\"func_name\": \"sqrt\", \"func\": np.sqrt, \"arity\": 1, \"format_str\": \"sqrt({})\"},\n",
    "    {\"func_name\": \"cube_root\", \"func\": np.cbrt, \"arity\": 1, \"format_str\": \"cube_root({})\"},\n",
    "    {\"func_name\": \"log\", \"func\": np.log, \"arity\": 1, \"format_str\": \"log({})\"},\n",
    "    {\"func_name\": \"sin\", \"func\": np.sin, \"arity\": 1, \"format_str\": \"sin({})\"},\n",
    "    {\"func_name\": \"cosh\", \"func\": np.cosh, \"arity\": 1, \"format_str\": \"cosh({})\"},\n",
    "    {\"func_name\": \"sinh\", \"func\": np.sinh, \"arity\": 1, \"format_str\": \"sinh({})\"},\n",
    "    {\"func_name\": \"tanh\", \"func\": np.tanh, \"arity\": 1, \"format_str\": \"tanh({})\"},\n",
    "    {\"func_name\": \"cos\", \"func\": np.cos, \"arity\": 1, \"format_str\": \"cos({})\"},\n",
    "    {\"func_name\": \"exp\", \"func\": np.exp, \"arity\": 1, \"format_str\": \"exp({})\"},  \n",
    "    {\"func_name\": \"abs\", \"func\": np.abs, \"arity\": 1, \"format_str\": \"abs({})\"}\n",
    "]\n",
    "None"
   ]
  },
  {
   "cell_type": "code",
   "execution_count": 45,
   "metadata": {},
   "outputs": [],
   "source": [
    "# Set of parameters that define the evolution of the GP algorithm.\n",
    "MAX_DEPTH = 5\n",
    "POP_SIZE = 500\n",
    "TOURNAMENT_SIZE = 10\n",
    "CROSSOVER_RATE = 0.50\n",
    "MAX_GENERATIONS = 1000\n",
    "NUM_BEST_INDVIDUALS_TO_KEEP = 300\n",
    "ERC_RATE = 0.05\n",
    "MUTATION_TREE_RATE = 0.2\n",
    "FLAG_EXPLORATION_RATE_DYNAMIC = False"
   ]
  },
  {
   "cell_type": "markdown",
   "metadata": {},
   "source": [
    "## Select input dataset"
   ]
  },
  {
   "cell_type": "markdown",
   "metadata": {},
   "source": [
    "## 3. Load input dataset Helper"
   ]
  },
  {
   "cell_type": "code",
   "execution_count": 46,
   "metadata": {},
   "outputs": [],
   "source": [
    "# Load the dataset\n",
    "def load_dataset(file_path):\n",
    "    data = np.load(file_path)\n",
    "    features = data['x'].T\n",
    "    target = data['y']\n",
    "    return features, target\n"
   ]
  },
  {
   "cell_type": "markdown",
   "metadata": {},
   "source": [
    "## 4. Define Mean Square Error (MSE)  of Fitness"
   ]
  },
  {
   "cell_type": "code",
   "execution_count": 47,
   "metadata": {},
   "outputs": [],
   "source": [
    "\n",
    "def evaluate_function(node, data):\n",
    "    if node[\"type\"] == \"x\":\n",
    "        return data[node[\"name\"]]\n",
    "    if node[\"type\"] == \"constant\":\n",
    "        return np.full(len(next(iter(data.values()))), node[\"value\"])\n",
    "    # Evaluate children\n",
    "    children_values = [evaluate_function(child, data) for child in node[\"children\"]]\n",
    "    if any(child is None for child in children_values):\n",
    "        return None  # discard invalid functions\n",
    "\n",
    "    try:\n",
    "        result = node[\"operator\"][\"func\"](*children_values)\n",
    "        if np.any(np.isinf(result)) or np.any(np.isnan(result)):\n",
    "            return None  # discard invalid functions\n",
    "        result = np.clip(result, -1e10, 1e10)  # Limit the output range\n",
    "        return result\n",
    "    except (FloatingPointError, ZeroDivisionError, ValueError):\n",
    "        return None  # discard invalid functions\n",
    "\n",
    "\n",
    "def calculate_mse(function, data, target):\n",
    "    \"\"\"\n",
    "    Calculates the fitness of a function. If the function is valid, it computes the mean squared error (MSE).\n",
    "    If the function is invalid (None, NaN, Inf), it will return a high value to exclude it from the evolutionary process.\n",
    "    \"\"\"\n",
    "\n",
    "    result = evaluate_function(function, data)\n",
    "    if result is None:\n",
    "        return float(\"inf\")  # Penalize invalid functions\n",
    "    try:\n",
    "        # calculate the mean squared error (MSE) as a measure of fitness\n",
    "        error = np.mean((result - target) ** 2)\n",
    "        return error\n",
    "    except ValueError:  # If there is an error during the calculation of the MSE, penalize the function\n",
    "        return float(\"inf\")\n",
    "None\n"
   ]
  },
  {
   "cell_type": "markdown",
   "metadata": {},
   "source": [
    "## 5. Define initial candidate generation functions"
   ]
  },
  {
   "cell_type": "code",
   "execution_count": 48,
   "metadata": {},
   "outputs": [],
   "source": [
    "def generate_grow(max_depth, features):\n",
    "    \"\"\"\n",
    "    function that generates a random tree as candidate .\n",
    "    \"\"\"\n",
    "    #if it is first node or random number is greater than 0.5, then return either a variable or a constant\n",
    "    if max_depth == 0 or random.random() > 0.5:\n",
    "        if random.random() < 0.99:\n",
    "            return {\"type\": \"x\", \"name\": random.choice(features)}  # Variable\n",
    "        else:\n",
    "            return {\"type\": \"constant\", \"value\": random.choice([x for x in range(-10, 11) if x != 0])}  # Costant\n",
    "    operator = random.choice(OPERATORS)\n",
    "    children = [generate_grow(max_depth - 1, features) for _ in range(operator[\"arity\"])]\n",
    "    return {\"type\": \"op\", \"operator\": operator, \"children\": children}\n",
    "\n",
    "def generate_full(max_depth, features):\n",
    "\n",
    "    if max_depth == 0:\n",
    "        if random.random() < 0.99:\n",
    "            return {\"type\": \"x\", \"name\": random.choice(features)}\n",
    "        else:\n",
    "            return {\"type\": \"constant\", \"value\": random.choice([x for x in range(-10, 11) if x != 0])}\n",
    "    operator = random.choice(OPERATORS)\n",
    "    children = [generate_full(max_depth - 1, features) for _ in range(operator[\"arity\"])]\n",
    "    return {\"type\": \"op\", \"operator\": operator, \"children\": children}\n",
    "\n",
    "def generate_candidate_half_half(max_depth, features):\n",
    "    if random.random() < 0.5:\n",
    "        return generate_grow(max_depth, features)\n",
    "    else:\n",
    "        return generate_full(max_depth, features)\n",
    "\n"
   ]
  },
  {
   "cell_type": "markdown",
   "metadata": {},
   "source": [
    "## 6. Define Representation function for candidates"
   ]
  },
  {
   "cell_type": "code",
   "execution_count": 49,
   "metadata": {},
   "outputs": [],
   "source": [
    "def get_individual_representation(node):\n",
    "    if node[\"type\"] == \"x\":\n",
    "        return node[\"name\"]\n",
    "    if node[\"type\"] == \"constant\":\n",
    "        return f\"{node['value']:.2f}\"\n",
    "    children = [get_individual_representation(child) for child in node[\"children\"]]\n",
    "    return node[\"operator\"][\"format_str\"].format(*children)"
   ]
  },
  {
   "cell_type": "markdown",
   "metadata": {},
   "source": [
    "## 7. Define Survival Selection Method"
   ]
  },
  {
   "cell_type": "code",
   "execution_count": 50,
   "metadata": {},
   "outputs": [],
   "source": [
    "\n",
    "def tournament_selection(population, MSE_scores):\n",
    "    selected = random.choices(population, k=TOURNAMENT_SIZE)\n",
    "    return min(selected, key=lambda p: MSE_scores[p])\n",
    "None"
   ]
  },
  {
   "cell_type": "markdown",
   "metadata": {},
   "source": [
    "## 8. Define function to evaluate validity of candidate"
   ]
  },
  {
   "cell_type": "code",
   "execution_count": 51,
   "metadata": {},
   "outputs": [],
   "source": [
    "# verify if the tree is valid\n",
    "def validate_tree(node):\n",
    "    if node[\"type\"] == \"op\":\n",
    "        if len(node[\"children\"]) != node[\"operator\"][\"arity\"]:\n",
    "            return False\n",
    "        #check if func_name is \"divide\" and the second child is a constant with value 0\n",
    "        if node[\"operator\"][\"func_name\"] == \"divide\" and node[\"children\"][1][\"type\"] == \"constant\" and node[\"children\"][1][\"value\"] == 0:\n",
    "            return False\n",
    "        #check if func_name is \"log\" and the child is a constant with value less than or equal to 0\n",
    "        if node[\"operator\"][\"func_name\"] == \"log\" and node[\"children\"][0][\"type\"] == \"constant\" and node[\"children\"][0][\"value\"] <= 0:\n",
    "            return False\n",
    "        return all(validate_tree(child) for child in node[\"children\"])\n",
    "    return True  # leaf nodes are always valid\n",
    "def contains_all_vars(function, features):\n",
    "    # verify if the function contains all the variables in the dataset\n",
    "    required_vars = set(features)\n",
    "    found_vars = set()\n",
    "\n",
    "    def explore_node_chidren(node):\n",
    "        if node[\"type\"] == \"x\":\n",
    "            found_vars.add(node[\"name\"])\n",
    "\n",
    "        # if the node is an operator, we need  explore its children\n",
    "        if node[\"type\"] == \"op\":\n",
    "            for child in node[\"children\"]:\n",
    "                explore_node_chidren(child)\n",
    "\n",
    "    explore_node_chidren(function)\n",
    "    \n",
    "    # verify if the function contains all the required variables\n",
    "    return required_vars.issubset(found_vars)\n"
   ]
  },
  {
   "cell_type": "markdown",
   "metadata": {},
   "source": [
    "## 9. Define CrossOver Helper Functions"
   ]
  },
  {
   "cell_type": "code",
   "execution_count": 52,
   "metadata": {},
   "outputs": [],
   "source": [
    "def get_leaf_nodes(node):\n",
    "    \"\"\"\n",
    "    Function that retrieves all leaf nodes given a parent node.\n",
    "    \"\"\"\n",
    "    # iif the node has no children, it's  a leaf\n",
    "    if \"children\" not in node or not node[\"children\"]:\n",
    "        return [node]\n",
    "\n",
    "    # otherwise, recursively explore the children to find the leaf nodes\n",
    "    leaf_nodes = []\n",
    "    for child in node[\"children\"]:\n",
    "        leaf_nodes.extend(get_leaf_nodes(child))\n",
    "\n",
    "    return leaf_nodes\n",
    "\n",
    "\n",
    "def replace_leaf(node, old_leaf, new_leaf):\n",
    "    \"\"\"\n",
    "    Function that recursively replaces a leaf in a tree.\n",
    "    \"\"\"\n",
    "    # if the current node is the old leaf, replace it with the new leaf\n",
    "    if node == old_leaf:\n",
    "        return deepcopy(new_leaf)\n",
    "    # If the current node has children, explore recursively.\n",
    "    if \"children\" in node:\n",
    "        node[\"children\"] = [replace_leaf(child, old_leaf, new_leaf) for child in node[\"children\"]]\n",
    "\n",
    "    return node\n",
    "def get_operator_nodes(node):\n",
    "    \"\"\"\n",
    "    Returns all operator nodes (non-leaf) of a tree.\n",
    "    \"\"\"\n",
    "    nodes = []\n",
    "    if node.get(\"type\") == \"op\":\n",
    "        nodes.append(node)\n",
    "    if \"children\" in node:\n",
    "        for child in node[\"children\"]:\n",
    "            nodes.extend(get_operator_nodes(child))\n",
    "    return nodes\n",
    "\n",
    "def get_parent_node(node, target):\n",
    "    \"\"\"\n",
    "    Function that retrieves the parent of a target node.\n",
    "    \"\"\"\n",
    "\n",
    "    if \"children\" not in node or not node[\"children\"]:\n",
    "        return None\n",
    "\n",
    "    for child in node[\"children\"]:\n",
    "        if child is target:\n",
    "            return node\n",
    "        result = get_parent_node(child, target)\n",
    "        if result:\n",
    "            return result\n",
    "\n",
    "    return None\n",
    "\n",
    "\n",
    "\n",
    "\n",
    "def get_heigth_subtree(node):\n",
    "    \"\"\"\n",
    "    Function that calculates the heigth of a subtree from the leaves towards the given node.\n",
    "    \"\"\"\n",
    "\n",
    "    if \"children\" not in node or not node[\"children\"]:\n",
    "        # If the node has no children, it is a leaf and has height 0\n",
    "        return 0\n",
    "    return 1 + max(get_heigth_subtree(child) for child in node[\"children\"])\n",
    "\n",
    "\n",
    "def select_similar_height_node(node, target_height):\n",
    "    \"\"\"\n",
    "    Function that returns a node in a tree with the closest heigth to the target one .\n",
    "    Selects a node in a tree with a height similar to the target_height.\n",
    "    \"\"\"\n",
    "\n",
    "    operator_nodes = get_operator_nodes(node)\n",
    "    best_match = None\n",
    "    min_diff = float(\"inf\")\n",
    "    for operator_nodes in operator_nodes:\n",
    "        height = get_heigth_subtree(operator_nodes)\n",
    "        diff = abs(height - target_height)\n",
    "        if diff < min_diff:\n",
    "            min_diff = diff\n",
    "            best_match = operator_nodes\n",
    "    return best_match\n",
    "\n",
    "# Function to replace a subtree in a tree\n",
    "def replace_subtree(parent, target, replacement):\n",
    "    if parent == target:\n",
    "        return deepcopy(replacement)\n",
    "    if \"children\" in parent:\n",
    "        parent[\"children\"] = [\n",
    "            replace_subtree(child, target, replacement) for child in parent[\"children\"]\n",
    "        ]\n",
    "    return parent\n"
   ]
  },
  {
   "cell_type": "markdown",
   "metadata": {},
   "source": [
    "## 10. Define CrossOver Methods"
   ]
  },
  {
   "cell_type": "code",
   "execution_count": 53,
   "metadata": {},
   "outputs": [],
   "source": [
    "#Crossover where a random crossover point is chosen and the subtrees are swapped.\n",
    "def crossover_random_height(parent_1, parent_2):\n",
    "    \"\"\"function to perform crossover between two trees of different height , swapping subtrees with a random height.\"\"\"\n",
    "    # create deep copies of the parents to avoid unwanted modifications\n",
    "    new_parent_1 = deepcopy(parent_1)\n",
    "    new_parent_2 = deepcopy(parent_2)\n",
    "\n",
    "    # Verify that both parents are operator nodes with valid children\n",
    "    if new_parent_1[\"type\"] != \"op\" or new_parent_2[\"type\"] != \"op\":\n",
    "        return new_parent_1  # No crossover possible, return the first parent\n",
    "    # Verify that both parents have children\n",
    "    if len(new_parent_1[\"children\"]) == 0 or len(new_parent_2[\"children\"]) == 0:\n",
    "        return new_parent_1  # No crossover possible, return the first parent\n",
    "\n",
    "    # 90% of swapping non-leaf nodes (subtrees)\n",
    "    if random.random() < 0.9:\n",
    "\n",
    "        if len(new_parent_1[\"children\"]) != new_parent_1[\"operator\"][\"arity\"] or len(new_parent_2[\"children\"]) != new_parent_2[\"operator\"][\"arity\"]:\n",
    "            return new_parent_1  # No crossover possible, return the first parent\n",
    "        # Select a random crossover point in parent_1 and parent_2\n",
    "        swapping_point_1 = random.randint(0, len(new_parent_1[\"children\"]) - 1)\n",
    "        swapping_point_2 = random.randint(0, len(new_parent_2[\"children\"]) - 1)\n",
    "\n",
    "        # Swap the subtrees\n",
    "        new_parent_1[\"children\"][swapping_point_1], new_parent_2[\"children\"][swapping_point_2] = (\n",
    "            deepcopy(new_parent_2[\"children\"][swapping_point_2]),\n",
    "            deepcopy(new_parent_1[\"children\"][swapping_point_1]),\n",
    "        )\n",
    "    else:\n",
    "        # 10% probability of swapping leaf nodes\n",
    "        leaves_parent_1 = get_leaf_nodes(new_parent_1)\n",
    "        leaves_parent_2 = get_leaf_nodes(new_parent_2)\n",
    "\n",
    "        if not leaves_parent_1 or not leaves_parent_2:\n",
    "            return new_parent_1  # No crossover possible if there are no leaves\n",
    "\n",
    "        # Select a random leaf from each parent\n",
    "        leaf_1 = choice(leaves_parent_1)\n",
    "        leaf_2 = choice(leaves_parent_2)\n",
    "\n",
    "        # Replace the leaf\n",
    "        new_parent_1 = replace_leaf(new_parent_1, leaf_1, leaf_2)\n",
    "        new_parent_2 = replace_leaf(new_parent_2, leaf_2, leaf_1)\n",
    "\n",
    "    return new_parent_1\n",
    "\n",
    "\n",
    "\n",
    "def crossover_similar_height(parent_1, parent_2):\n",
    "    \"\"\"\n",
    "    Crossover with random (similar) height, 90% swaps non-leaf nodes, 10% swaps leaf nodes.\n",
    "\"\"\"\n",
    "    # Create deep copies of the parents to avoid unwanted modifications\n",
    "    new_parent_1 = deepcopy(parent_1)\n",
    "    new_parent_2 = deepcopy(parent_2)\n",
    "\n",
    "    # Verify that both parents are operator nodes with valid children\n",
    "    if new_parent_1[\"type\"] != \"op\" or new_parent_2[\"type\"] != \"op\":\n",
    "        return new_parent_1  # No crossover possible, return the first parent\n",
    "    if len(new_parent_1[\"children\"]) == 0 or len(new_parent_2[\"children\"]) == 0:\n",
    "        return new_parent_1  # No crossover possible, return the first parent\n",
    "    if random.random() < 0.9:\n",
    "        # Selects a random swap point in parent_1.\n",
    "        operator_nodes_1 = get_operator_nodes(new_parent_1)\n",
    "        if not operator_nodes_1:\n",
    "            return new_parent_1  # No valid swap point in parent_1\n",
    "        swapping_point_1 = random.choice(operator_nodes_1)\n",
    "\n",
    "        # Get the height of the subtree\n",
    "        height1 = get_heigth_subtree(swapping_point_1)\n",
    "\n",
    "        # Select a similar height node in parent_2\n",
    "        swapping_point_2 = select_similar_height_node(new_parent_2, height1)\n",
    "        if not swapping_point_2:\n",
    "            return new_parent_1  # No valid swap point in parent_2\n",
    "\n",
    "        new_parent_1 = replace_subtree(new_parent_1, swapping_point_1, swapping_point_2)\n",
    "        new_parent_2 = replace_subtree(new_parent_2, swapping_point_2, swapping_point_1)\n",
    "    else:\n",
    "        # 10% swap leaf nodes        \n",
    "        leaves_parent_1 = get_leaf_nodes(new_parent_1)\n",
    "        leaves_parent_2 = get_leaf_nodes(new_parent_2)\n",
    "\n",
    "        if not leaves_parent_1 or not leaves_parent_2:\n",
    "            return new_parent_1  # No crossover possible if there are no leaves\n",
    "        \n",
    "        # Select a random leaf from each parent\n",
    "        leaf_1 = choice(leaves_parent_1)\n",
    "        leaf_2 = choice(leaves_parent_2)\n",
    "\n",
    "        # Replace the leaf\n",
    "        new_parent_1 = replace_leaf(new_parent_1, leaf_1, leaf_2)\n",
    "        new_parent_2 = replace_leaf(new_parent_2, leaf_2, leaf_1)\n",
    "\n",
    "    return new_parent_1\n",
    "\n",
    "    \n",
    "def crossover_fixed_height(parent_1, parent_2):\n",
    "    \"\"\"\n",
    "    Perform a crossover between two trees, swapping subtrees with a maximum height of 3.\n",
    "    \"\"\"\n",
    "    # Create deep copies of the parents to avoid unwanted modifications\n",
    "    new_parent_1 = deepcopy(parent_1)\n",
    "    new_parent_2 = deepcopy(parent_2)\n",
    "\n",
    "    # Verify that both parents are operator nodes with valid children\n",
    "    if new_parent_1[\"type\"] != \"op\" or new_parent_2[\"type\"] != \"op\":\n",
    "        return new_parent_1  # No crossover possible, return the first parent\n",
    "    if len(new_parent_1[\"children\"]) == 0 or len(new_parent_2[\"children\"]) == 0:\n",
    "        return new_parent_1  # No crossover possible, return the first parent\n",
    "    if random.random() < 0.9:\n",
    "        # Selects a random swap point in parent_1 with a maximum height of 3\n",
    "        operator_nodes_1 = [node for node in get_operator_nodes(new_parent_1)\n",
    "                        if get_heigth_subtree(node) <= 2]\n",
    "        operator_nodes_2 = [node for node in get_operator_nodes(new_parent_2)\n",
    "                        if get_heigth_subtree(node) <= 2]\n",
    "\n",
    "        if not operator_nodes_1 or not operator_nodes_2:\n",
    "            return new_parent_1  # No valid swap point in parent_1\n",
    "\n",
    "        # Select a random swap point in parent_1 and parent_2\n",
    "        swapping_point_1 = random.choice(operator_nodes_1)\n",
    "        swapping_point_2 = random.choice(operator_nodes_2)\n",
    "\n",
    "        new_parent_1 = replace_subtree(new_parent_1, swapping_point_1, swapping_point_2)\n",
    "        new_parent_2 = replace_subtree(new_parent_2, swapping_point_2, swapping_point_1)\n",
    "    else:\n",
    "        leaves_parent_1 = get_leaf_nodes(new_parent_1)\n",
    "        leaves_parent_2 = get_leaf_nodes(new_parent_2)\n",
    "\n",
    "        if not leaves_parent_1 or not leaves_parent_2:\n",
    "            return new_parent_1  # No crossover possible if there are no leaves\n",
    "        # Select a random leaf from each parent\n",
    "        leaf_1 = choice(leaves_parent_1)\n",
    "        leaf_2 = choice(leaves_parent_2)\n",
    "\n",
    "        # Replace the leaf\n",
    "        new_parent_1 = replace_leaf(new_parent_1, leaf_1, leaf_2)\n",
    "        new_parent_2 = replace_leaf(new_parent_2, leaf_2, leaf_1)\n",
    "\n",
    "    return new_parent_1\n"
   ]
  },
  {
   "cell_type": "markdown",
   "metadata": {},
   "source": [
    "## 11. Define Mutation Helper Functions"
   ]
  },
  {
   "cell_type": "code",
   "execution_count": 54,
   "metadata": {},
   "outputs": [],
   "source": [
    "def get_subtrees_with_height(node, parent=None, index=None, current_height=0):\n",
    "        \"\"\"\n",
    "        Retrieves all subtrees (pointers to nodes, parents, indices, and heights).\n",
    "        \"\"\"\n",
    "        subtrees = []\n",
    "        if node[\"type\"] == \"op\":  # only consider operator nodes\n",
    "            for i, child in enumerate(node[\"children\"]):\n",
    "                subtree_height = get_heigth_subtree(child)\n",
    "                subtrees.append((node, i, subtree_height))  # Store the parent, index, and height\n",
    "                subtrees.extend(get_subtrees_with_height(child, node, i, current_height + 1))\n",
    "        return subtrees\n",
    "\n",
    "def get_heigth_subtree(node):\n",
    "    \"\"\"\n",
    "    Calculates the height of a subtree from the leaves towards the given node.\n",
    "    \"\"\"\n",
    "    if node[\"type\"] != \"op\" or not node.get(\"children\"):\n",
    "        return 0  # Leaf nodes have height 0\n",
    "    return 1 + max(get_heigth_subtree(child) for child in node[\"children\"])\n",
    "\n",
    "def perform_erc_mutation():\n",
    "    \"\"\"\n",
    "    Perform the ERC mutation.\n",
    "    \"\"\"\n",
    "    while True:\n",
    "        value = random.uniform(-4, 4)  # Generate a random value\n",
    "        if value != 0:  # Ensure the value is not zero\n",
    "            return {\"type\": \"constant\", \"value\": value}\n",
    "\n",
    "\n"
   ]
  },
  {
   "cell_type": "markdown",
   "metadata": {},
   "source": [
    "## 12. Define Mutation Methods"
   ]
  },
  {
   "cell_type": "code",
   "execution_count": 55,
   "metadata": {},
   "outputs": [],
   "source": [
    "def mutate_all_tree(features, max_depth):\n",
    "    return generate_candidate_half_half(max_depth, features)\n",
    "\n",
    "def mutate(function, features, max_depth):\n",
    "    # Create a deep copy of the function to avoid unwanted modifications\n",
    "    function = deepcopy(function)\n",
    "    if function[\"type\"] == \"op\":\n",
    "        # if the node is an operator, randomly change the operator\n",
    "        function[\"operator\"] = random.choice(OPERATORS)\n",
    "        # Recursively mutate the children\n",
    "        child_idx = random.randint(0, len(function[\"children\"]) - 1)\n",
    "        function[\"children\"][child_idx] = mutate(function[\"children\"][child_idx], features, max_depth - 1)\n",
    "    \n",
    "    elif function[\"type\"] == \"x\":\n",
    "        # if the node is a leaf, randomly change the variable\n",
    "        function[\"value\"] = random.choice(features)  # Randomly select a new variable\n",
    "\n",
    "    return function\n",
    "\n",
    "\n",
    "def mutate_erc(function, features, max_depth):\n",
    "    \"\"\"\n",
    "    Perform the ERC mutation.\n",
    "    \"\"\"\n",
    "    # Create a deep copy of the function to avoid unwanted modifications\n",
    "    function = deepcopy(function)\n",
    "    if function[\"type\"] != \"op\":\n",
    "            # If the current node is a leaf, perform the ERC mutation\n",
    "        return perform_erc_mutation()\n",
    "\n",
    "    # If the current node is an operator, recursively mutate the children\n",
    "    if function[\"type\"] == \"op\":\n",
    "        child_idx = random.randint(0, len(function[\"children\"]) - 1)\n",
    "        function[\"children\"][child_idx] = mutate_erc(function[\"children\"][child_idx], features, max_depth - 1)\n",
    "\n",
    "    return function\n",
    "\n",
    "def swap_mutation(function):\n",
    "    # Create a deep copy of the function to avoid unwanted modifications\n",
    "    function = deepcopy(function)\n",
    "    # Get all subtrees with their heights\n",
    "    subtrees = get_subtrees_with_height(function)\n",
    "    if len(subtrees) < 2:\n",
    "        return function  # No mutation possible\n",
    "    # Select a random subtree\n",
    "    parent_1, idx1, height1 = random.choice(subtrees)\n",
    "\n",
    "    subtrees_sorted_by_height_diff = sorted(\n",
    "        subtrees,\n",
    "        key=lambda x: abs(x[2] - height1)  # Sort by the absolute difference in height\n",
    "    )\n",
    "\n",
    "   # filter out subtrees that are too similar in height\n",
    "    for parent_2, idx2, _ in subtrees_sorted_by_height_diff:\n",
    "        if (parent_1, idx1) != (parent_2, idx2):  # Ensure the subtrees are different\n",
    "            # Swap the subtrees\n",
    "            parent_1[\"children\"][idx1], parent_2[\"children\"][idx2] = (\n",
    "                deepcopy(parent_2[\"children\"][idx2]),\n",
    "                deepcopy(parent_1[\"children\"][idx1]),\n",
    "            )\n",
    "            break\n",
    "\n",
    "    return function"
   ]
  },
  {
   "cell_type": "markdown",
   "metadata": {},
   "source": [
    "## 13. Define Evolution strategy"
   ]
  },
  {
   "cell_type": "code",
   "execution_count": 56,
   "metadata": {},
   "outputs": [],
   "source": [
    "mean_MSE = []\n",
    "# Function to dynamically change the exploration rate\n",
    "\n",
    "def get_dynamic_exploration_rate(MSE_scores):\n",
    "    \"\"\"\n",
    "    Function that dynamically adjusts the exploration rate based on changes in the MSE (Mean Squared Error).\n",
    "\n",
    "    \"\"\"\n",
    "    # Calculate and store the mean of the current MSE scores\n",
    "    mean_MSE.append(np.mean(list(MSE_scores.values())))\n",
    "\n",
    "    # Default exploration rate\n",
    "    exploration_rate = 0.7\n",
    "\n",
    "    # Adjust exploration rate if we have more than 100 iterations\n",
    "    if len(mean_MSE) > 101:\n",
    "        current_MSE = mean_MSE[-1]\n",
    "        previous_MSE = mean_MSE[-99]  # Compare with MSE from 99 steps ago\n",
    "\n",
    "        # Calculate percentage change in the MSE\n",
    "        change_percentage = (current_MSE - previous_MSE) / previous_MSE if previous_MSE != 0 else 0\n",
    "\n",
    "        # Adjust exploration rate based on the change in the MSE\n",
    "        if change_percentage < 0:\n",
    "            # Reduce exploration rate if the MSE has improved (decreased)\n",
    "            exploration_rate = max(0.5, 1 + change_percentage)\n",
    "        else:\n",
    "            # Increase exploration rate if the MSE has worsened or stayed the same\n",
    "            exploration_rate = 0.5\n",
    "\n",
    "    return exploration_rate\n",
    "\n"
   ]
  },
  {
   "cell_type": "code",
   "execution_count": 57,
   "metadata": {},
   "outputs": [],
   "source": [
    "\n",
    "def run_symbolic_regression(features, data, target):\n",
    "    # Initialize the population with valid individuals only (i.e., those that contain all the variables)\n",
    "    population = []\n",
    "    while len(population) < POP_SIZE:\n",
    "        candidate = generate_candidate_half_half(MAX_DEPTH, features)\n",
    "        if evaluate_function(candidate, data) is not None:  # Ensure the function is valid\n",
    "            population.append(candidate)\n",
    "\n",
    "    best_function = None\n",
    "    best_MSE = float(\"inf\")\n",
    "    # Evolve the population for a set number of generations\n",
    "    for _ in tqdm.tqdm(range(MAX_GENERATIONS)):\n",
    "        # calculate the MSE scores for the population\n",
    "        MSE_scores = {}\n",
    "        for individual in population:\n",
    "            individual_repr = get_individual_representation(individual)\n",
    "            score = calculate_mse(individual, data, target)\n",
    "            C[individual_repr] = score\n",
    "        \n",
    "        # Map the functions to their string representations\n",
    "        individual_mapping = {get_individual_representation(individual): individual for individual in population}\n",
    "        offspring_list = []\n",
    "        if FLAG_EXPLORATION_RATE_DYNAMIC:\n",
    "            exploration_rate = get_dynamic_exploration_rate(MSE_scores)\n",
    "        else:\n",
    "            exploration_rate = 0.5\n",
    "        # Generate new individuals for the population\n",
    "        while len(offspring_list) < POP_SIZE:\n",
    "            is_valid_candidate = False\n",
    "            while not is_valid_candidate:\n",
    "                parent_1_repr = tournament_selection(list(MSE_scores.keys()), MSE_scores)\n",
    "                parent_1 = individual_mapping[parent_1_repr]\n",
    "                if random.random() < CROSSOVER_RATE:\n",
    "                    parent_2_repr = tournament_selection(list(MSE_scores.keys()), MSE_scores)\n",
    "                    parent_2 = individual_mapping[parent_2_repr]\n",
    "                    # choose between crossover_similar_height and crossover_2\n",
    "                    crossover_probability = random.random()\n",
    "                    #exploration\n",
    "                    if crossover_probability < exploration_rate:\n",
    "                        if random.random() < 0.5:\n",
    "                            offspring = crossover_random_height(parent_1, parent_2)\n",
    "                        else:\n",
    "                           offspring = crossover_similar_height(parent_1, parent_2)\n",
    "                    else:\n",
    "                        #exploitation\n",
    "                        offspring = crossover_fixed_height(parent_1, parent_2)\n",
    "                else:\n",
    "                    random_number = random.random()\n",
    "                    if random_number <= ERC_RATE:\n",
    "                        offspring = mutate_erc(parent_1, features, MAX_DEPTH)\n",
    "                    elif random_number > 0.1 and random.random() < MUTATION_TREE_RATE:\n",
    "                        offspring = mutate_all_tree(features, MAX_DEPTH)\n",
    "                    elif random_number < 0.1 and random_number >  ERC_RATE:\n",
    "                        offspring = mutate(parent_1, features, MAX_DEPTH)\n",
    "\n",
    "                # Validate the offspring\n",
    "                if validate_tree(offspring) and evaluate_function(offspring, data) is not None and contains_all_vars(offspring, features):\n",
    "                    offspring_list.append(offspring)\n",
    "                    is_valid_candidate = True\n",
    "        \n",
    "        # Combine the old and new populations\n",
    "        total_population =  offspring_list + population\n",
    "        # Calculate the MSE scores for the total population\n",
    "        MSE_scores = {get_individual_representation(individual): calculate_mse(individual, data, target) for individual in total_population}\n",
    "        # Sort the combined population by their MSE scores\n",
    "        sorted_population = sorted(total_population, key=lambda individual: MSE_scores[get_individual_representation(individual)])\n",
    "        \n",
    "        # Select the top 300 individuals\n",
    "        population = sorted_population[:NUM_BEST_INDVIDUALS_TO_KEEP]\n",
    "        # Update the best function and its MSE score\n",
    "        \n",
    "        for individual in population:\n",
    "            individual_repr = get_individual_representation(individual)\n",
    "            score = MSE_scores[individual_repr]\n",
    "            if score < best_MSE:\n",
    "                best_MSE = score\n",
    "                best_function = individual\n",
    "        if best_MSE == 0:\n",
    "            return best_function, best_MSE\n",
    "    \n",
    "    return best_function, best_MSE\n"
   ]
  },
  {
   "cell_type": "markdown",
   "metadata": {},
   "source": [
    "## 14. Define Plot functions"
   ]
  },
  {
   "cell_type": "code",
   "execution_count": 58,
   "metadata": {},
   "outputs": [],
   "source": [
    "def plot_2D(best_function, features, target,problem):\n",
    "    \"\"\"\n",
    "    Function that generates a 2D plot comparing the real data points with the predicted points.\n",
    "    \"\"\"\n",
    " \n",
    "    X = features[:, 0]\n",
    "\n",
    "\n",
    "    x_grid = np.linspace(X.min(), X.max(), 100).reshape(-1, 1)\n",
    "    x_flat = x_grid.ravel()\n",
    "    data_range = {\n",
    "        \"x0\": x_flat,\n",
    "    }\n",
    "\n",
    "\n",
    "    y_pred = evaluate_function(best_function, data_range)\n",
    "    y_pred_grid = y_pred.reshape(x_grid.shape)\n",
    "    y_pred_flat = y_pred_grid.ravel()\n",
    "    fig = go.Figure()\n",
    "\n",
    "    fig.add_trace(go.Scatter( x=X, y=target, mode='markers', marker=dict(size=4, color='blue'), name=\"Ground Truth\"))\n",
    "\n",
    "    fig.add_trace(go.Scatter(x=x_flat, y=y_pred_flat, mode='lines', line=dict(color='orange'), name=\"Symbolic Regression Best Candidate\"))\n",
    "\n",
    "\n",
    "    fig.update_layout(\n",
    "        xaxis_title='x',\n",
    "        yaxis_title='y',\n",
    "        title=\"Comparison Symbolic regression prediction against Ground Truth\",\n",
    "        autosize=True\n",
    "    )\n",
    "\n",
    "    fig.show()\n",
    "    file_path = f\"../results/problem_{problem}_2d_plot.html\"\n",
    "    pio.write_html(fig, file=file_path, auto_open=True)\n",
    "    print(f\"The 3D plot has been saved here: {file_path}\")\n",
    "    fig.write_image(f\"../results/problem_{problem}_2d_plot.png\")\n",
    "    \n",
    "\n"
   ]
  },
  {
   "cell_type": "code",
   "execution_count": 59,
   "metadata": {},
   "outputs": [],
   "source": [
    "\n",
    "\n",
    "def plot_3D(best_function, features, target,problem):\n",
    "    X1 = features[:, 0]\n",
    "    X2 = features[:, 1]\n",
    "\n",
    "    x1_grid = np.linspace(X1.min(), X1.max(), 50)\n",
    "    x2_grid = np.linspace(X2.min(), X2.max(), 50)\n",
    "    x1_mesh, x2_mesh = np.meshgrid(x1_grid, x2_grid)\n",
    "\n",
    "    data_range = {\n",
    "        \"x0\": x1_mesh.ravel(),\n",
    "        \"x1\": x2_mesh.ravel(),\n",
    "    }\n",
    "\n",
    "    y_pred = evaluate_function(best_function, data_range)\n",
    "    y_pred_mesh = y_pred.reshape(x1_mesh.shape)\n",
    "\n",
    "    fig = go.Figure()\n",
    "\n",
    " \n",
    "    fig.add_trace(go.Scatter3d(\n",
    "        x=X1,\n",
    "        y=X2,\n",
    "        z=target,\n",
    "        mode='markers',\n",
    "        marker=dict(size=4, color='blue'),\n",
    "        name=\"Ground Truth\"\n",
    "    ))\n",
    "\n",
    "\n",
    "    fig.add_trace(go.Surface(\n",
    "        z=y_pred_mesh,\n",
    "        x=x1_grid,\n",
    "        y=x2_grid,\n",
    "        colorscale='Reds',\n",
    "        opacity=0.7,\n",
    "        name=\"Symbolic Regression Best Candidate\"\n",
    "    ))\n",
    "\n",
    " \n",
    "    fig.update_layout(\n",
    "        scene=dict(\n",
    "            xaxis_title='x1',\n",
    "            yaxis_title='x2',\n",
    "            zaxis_title='y'\n",
    "        ),\n",
    "        title=\"Comparison Symbolic regression prediction against Ground Truth\",\n",
    "        autosize=True\n",
    "    )\n",
    "\n",
    "\n",
    "    fig.show()\n",
    "    file_path = f\"../results/problem_{problem}_2d_plot.html\"\n",
    "    pio.write_html(fig, file=file_path, auto_open=True)\n",
    "    print(f\"The 3D plot has been saved here: {file_path}\")\n",
    "    #save the plot as png\n",
    "None"
   ]
  },
  {
   "cell_type": "markdown",
   "metadata": {},
   "source": [
    "## 15. Define K-FOLD validation"
   ]
  },
  {
   "cell_type": "code",
   "execution_count": 60,
   "metadata": {},
   "outputs": [],
   "source": [
    "\n",
    "def run_k_fold_cross_validation(features, target, k=3):\n",
    "    \"\"\"\n",
    "    Function that performs k-fold cross-validation to evaluate the performance of the GP algorithm considering different folds\n",
    "    \"\"\"\n",
    "    kf = KFold(n_splits=k, shuffle=True, random_state=43)\n",
    "    fold_scores = []\n",
    "    best__MSE = float(\"inf\")\n",
    "    best_p = None\n",
    "    feature_names = [f\"x{i}\" for i in range(features.shape[1])]\n",
    "    fold=0\n",
    "    for train_idx, val_idx in kf.split(features):\n",
    "        is_valid_candidate = False\n",
    "        while not is_valid_candidate:\n",
    "            train_features, val_features = features[train_idx], features[val_idx]\n",
    "            train_target, val_target = target[train_idx], target[val_idx]\n",
    "            # Create a dictionary with the training and validation data\n",
    "            train_data_dict = {f\"x{i}\": train_features[:, i] for i in range(train_features.shape[1])}\n",
    "            val_data_dict = {f\"x{i}\": val_features[:, i] for i in range(val_features.shape[1])}\n",
    "            \n",
    "            # Evolve the best function for the current fold\n",
    "            best_function, _ = run_symbolic_regression(features=feature_names, data=train_data_dict, target=train_target)\n",
    "            \n",
    "            if best_function is None:\n",
    "                print(\"Fold discarded: invalid function, retrying evolution\")\n",
    "            # Calculate the MSE of the best function on the validation data\n",
    "            current_MSE = calculate_mse(best_function, val_data_dict, val_target) \n",
    "            if current_MSE == float(\"inf\"):\n",
    "                print(\"Fold discarded: invalid function, retrying evolution\")\n",
    "                print(f\"function invalid: {get_individual_representation(best_function)}\")\n",
    "                # Save the data to a CSV file\n",
    "                pd.DataFrame(val_data_dict).to_csv(\"data.csv\")\n",
    "            else: \n",
    "                is_valid_candidate = True\n",
    "                fold_scores.append(current_MSE)\n",
    "                fold+=1\n",
    "                # Reset the mean_MSE list\n",
    "                mean_MSE.clear()\n",
    "                print(f\"Fold {fold}° validated with MSE: {current_MSE:.4f}\")\n",
    "                print(f\"Best function of fold {fold}°: {get_individual_representation(best_function)}\")\n",
    "                if current_MSE < best__MSE:\n",
    "                    best__MSE = current_MSE\n",
    "                    best_p = best_function\n",
    "    \n",
    "    return best_p, best__MSE\n",
    "\n"
   ]
  },
  {
   "cell_type": "markdown",
   "metadata": {},
   "source": [
    "## 16. Execute Symbolic regression"
   ]
  },
  {
   "cell_type": "code",
   "execution_count": 61,
   "metadata": {},
   "outputs": [
    {
     "name": "stderr",
     "output_type": "stream",
     "text": [
      "  0%|          | 0/1000 [00:00<?, ?it/s]\n"
     ]
    },
    {
     "name": "stdout",
     "output_type": "stream",
     "text": [
      "Fold 1° validated with MSE: 0.0000\n",
      "Best function of fold 1°: sin(x0)\n"
     ]
    },
    {
     "name": "stderr",
     "output_type": "stream",
     "text": [
      "  0%|          | 0/1000 [00:00<?, ?it/s]"
     ]
    },
    {
     "name": "stdout",
     "output_type": "stream",
     "text": [
      "Fold 2° validated with MSE: 0.0000\n",
      "Best function of fold 2°: sin(x0)\n",
      "Best function : sin(x0) MSE: 0.0000 and MSE (all dataset): 0.0000\n",
      "{'type': 'op', 'operator': {'func_name': 'sin', 'func': <ufunc 'sin'>, 'arity': 1, 'format_str': 'sin({})'}, 'children': [{'type': 'x', 'name': 'x0'}]}\n"
     ]
    },
    {
     "name": "stderr",
     "output_type": "stream",
     "text": [
      "\n"
     ]
    }
   ],
   "source": [
    "\n",
    "# Load the dataset\n",
    "problem=1\n",
    "file_path = f\"../data/problem_{problem}.npz\"\n",
    "samples = 10000\n",
    "features, target = load_dataset(file_path)\n",
    "if file_path == \"../data/problem_8.npz\":\n",
    "    #do a sampling of the dataset taking only 10000 samples (randomly) to speed up the process\n",
    "    if features.shape[0] > samples:\n",
    "        idx = np.random.choice(features.shape[0], 10000, replace=False)\n",
    "        features_sampled = features[idx]\n",
    "        target_sampled = target[idx]\n",
    "    else:\n",
    "        features_sampled = features\n",
    "        target_sampled = target\n",
    "    best_p, best_MSE = run_k_fold_cross_validation(features_sampled, target_sampled, k=5)\n",
    "else:\n",
    "    # Perform k-fold cross validation\n",
    "    best_p, best_MSE = run_k_fold_cross_validation(features, target, k=2)\n",
    "print(f\"Best function : {get_individual_representation(best_p)} MSE: {best_MSE:.4f} and MSE (all dataset): {calculate_mse(best_p, {f'x{i}': features[:, i] for i in range(features.shape[1])}, target):.4f}\")\n",
    "print(best_p)\n"
   ]
  },
  {
   "cell_type": "markdown",
   "metadata": {},
   "source": [
    "## 17. Generate plots"
   ]
  },
  {
   "cell_type": "code",
   "execution_count": 62,
   "metadata": {},
   "outputs": [
    {
     "data": {
      "application/vnd.plotly.v1+json": {
       "config": {
        "plotlyServerURL": "https://plot.ly"
       },
       "data": [
        {
         "marker": {
          "color": "blue",
          "size": 4
         },
         "mode": "markers",
         "name": "Ground Truth",
         "type": "scatter",
         "x": {
          "bdata": "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",
          "dtype": "f8"
         },
         "y": {
          "bdata": "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",
          "dtype": "f8"
         }
        },
        {
         "line": {
          "color": "orange"
         },
         "mode": "lines",
         "name": "Symbolic Regression Best Candidate",
         "type": "scatter",
         "x": {
          "bdata": "sKRT42t177+t2MRFtNHuv6sMNqj8Le6/qECnCkWK7b+mdBhtjebsv6Ooic/VQuy/oNz6MR6f67+eEGyUZvvqv5tE3fauV+q/mHhOWfez6b+WrL+7PxDpv5PgMB6IbOi/kBSigNDI57+OSBPjGCXnv4t8hEVhgea/iLD1p6nd5b+G5GYK8jnlv4QY2Gw6luS/gUxJz4Ly479+gLoxy07jv3y0K5QTq+K/eeic9lsH4r92HA5ZpGPhv3RQf7vsv+C/cYTwHTUc4L/dcMMA+/Dev9jYpcWLqd2/0kCIihxi3L/MqGpPrRrbv8gQTRQ+09m/wngv2c6L2L++4BGeX0TXv7hI9GLw/NW/srDWJ4G11L+uGLnsEW7Tv6iAm7GiJtK/pOh9djPf0L88ocB2iC/PvzBxhQCqoMy/KEFKissRyr8cEQ8U7YLHvxDh050O9MS/CLGYJzBlwr/4Abtio6y/v+ChRHbmjrq/0EHOiSlxtb+44VedbFOwv1ADw2Ffa6a/QIasEctfmL8AL5j+ukZvv2B6BlIcjpA/YP3vAYiCoj+AvdzaAb6sP+C+5Nm9fLM/8B5bxnqauD8Af9GyN7i9P5Dvo0/6asE/mB/fxdj5wz+gTxo8t4jGP6h/VbKVF8k/uK+QKHSmyz/A38ueUjXOP+SHg4oYYtA/7B+hxYep0T/wt74A9/DSP/RP3DtmONQ//Of5dtV/1T8AgBeyRMfWPwQYNe2zDtg/DLBSKCNW2T8QSHBjkp3aPxTgjZ4B5ds/GHir2XAs3T8gEMkU4HPePySo5k9Pu98/FCCCRV+B4D8Y7BDjFiXhPxq4n4DOyOE/HIQuHoZs4j8gUL27PRDjPyIcTFn1s+M/JOja9qxX5D8otGmUZPvkPyqA+DEcn+U/LEyHz9NC5j8wGBZti+bmPzLkpApDiuc/NLAzqPot6D84fMJFstHoPzpIUeNpdek/PBTggCEZ6j8+4G4e2bzqP0Ks/buQYOs/RHiMWUgE7D9GRBv3/6fsP0oQqpS3S+0/TNw4Mm/v7T9OqMfPJpPuP1J0Vm3eNu8/VEDlCpba7z8=",
          "dtype": "f8"
         },
         "y": {
          "bdata": "iNjgKHmh6r/iZNHqV0Xqv93X2Q2H5um/XH62QxCF6b/l3nOD/SDpv8jlaQhZuui/vxUwUS1R6L9f2IoeheXnv24KUnJrd+e/8OBQjusG579NRB/zEJTmv8W/9F7nHua/7SN1zHqn5b+k+3Zx1y3lv47zw70JsuS/zVTTWR405L8ztH4lIrTjv8n3sDYiMuO/NNUP2Cuu4r/v65+HTCjiv+qeY/WRoOG/pNH0AQoX4b+BrRm9wovgv6woqciU/d+/v8vewl7g3r+SfASSAMDdv4mo67GXnNy/fTsD7kF2279TxUteHU3av2HLQ2RIIdm/QJbMp+Hy179bzQcUCMLWvygyLtTajtW/8c1fUHlZ1L995W0qAyLTv50GnzqY6NG/bIRtjFit0L+MboG2yODOv9msQh64Y8y/1YLScsDjyb8ZIN4iI2HHvzqAW+Ih3MS/rLDRo/5Uwr/6YTUj95e/vx48Pw62grq/NbIfFL9qtb9buCeHl1Cwv2O58eWJaaa/S0x3OzRfmL8UT9EDtkZvv5M7uw7tjZA/a+SsyH+Boj/A1W+pJLqsP+vfddDsd7M/oVSjucmQuD/U+2ymI6e9P3ebXrc6XcE/F67sHB3lwz9CcPvF9mrGPwmA46mF7sg/CcL7+4dvyz/ZoVMyvO3NPzlAM4ZwNNA/Q9DjzFpw0T898WKgfKrSPz1Rg+K14tM/nIULp+YY1T/hmPk270zWP9wnwROwftc/4riD+gmu2D/z+ELn3drZP0mLDBgNBds/ChgfEHks3D8LSAibA1HdP9Bbu8+Oct4/TA2gE/2Q3z/6tcyOGFbgPw4ygvwG4uA/sNFWhDts4T8oRt8EqPThP3h2UIs+e+I/TpbsVPH/4j8jU2vQsoLjP9PyXJ91A+Q/aT+IlyyC5D81HEPEyv7kPwqhxWdDeeU/+ph3/Inx5T9mQjg2kmfmP+guoANQ2+Y/NyI9j7dM5z+wz8dAvbvnP89WU75VKOg/pF927XWS6D/euG30EvroP61ZODsiX+k/caqsbJnB6T/v94Z3biHqP031cI+Xfuo/7jECLgvZ6j8=",
          "dtype": "f8"
         }
        }
       ],
       "layout": {
        "autosize": true,
        "template": {
         "data": {
          "bar": [
           {
            "error_x": {
             "color": "#2a3f5f"
            },
            "error_y": {
             "color": "#2a3f5f"
            },
            "marker": {
             "line": {
              "color": "#E5ECF6",
              "width": 0.5
             },
             "pattern": {
              "fillmode": "overlay",
              "size": 10,
              "solidity": 0.2
             }
            },
            "type": "bar"
           }
          ],
          "barpolar": [
           {
            "marker": {
             "line": {
              "color": "#E5ECF6",
              "width": 0.5
             },
             "pattern": {
              "fillmode": "overlay",
              "size": 10,
              "solidity": 0.2
             }
            },
            "type": "barpolar"
           }
          ],
          "carpet": [
           {
            "aaxis": {
             "endlinecolor": "#2a3f5f",
             "gridcolor": "white",
             "linecolor": "white",
             "minorgridcolor": "white",
             "startlinecolor": "#2a3f5f"
            },
            "baxis": {
             "endlinecolor": "#2a3f5f",
             "gridcolor": "white",
             "linecolor": "white",
             "minorgridcolor": "white",
             "startlinecolor": "#2a3f5f"
            },
            "type": "carpet"
           }
          ],
          "choropleth": [
           {
            "colorbar": {
             "outlinewidth": 0,
             "ticks": ""
            },
            "type": "choropleth"
           }
          ],
          "contour": [
           {
            "colorbar": {
             "outlinewidth": 0,
             "ticks": ""
            },
            "colorscale": [
             [
              0,
              "#0d0887"
             ],
             [
              0.1111111111111111,
              "#46039f"
             ],
             [
              0.2222222222222222,
              "#7201a8"
             ],
             [
              0.3333333333333333,
              "#9c179e"
             ],
             [
              0.4444444444444444,
              "#bd3786"
             ],
             [
              0.5555555555555556,
              "#d8576b"
             ],
             [
              0.6666666666666666,
              "#ed7953"
             ],
             [
              0.7777777777777778,
              "#fb9f3a"
             ],
             [
              0.8888888888888888,
              "#fdca26"
             ],
             [
              1,
              "#f0f921"
             ]
            ],
            "type": "contour"
           }
          ],
          "contourcarpet": [
           {
            "colorbar": {
             "outlinewidth": 0,
             "ticks": ""
            },
            "type": "contourcarpet"
           }
          ],
          "heatmap": [
           {
            "colorbar": {
             "outlinewidth": 0,
             "ticks": ""
            },
            "colorscale": [
             [
              0,
              "#0d0887"
             ],
             [
              0.1111111111111111,
              "#46039f"
             ],
             [
              0.2222222222222222,
              "#7201a8"
             ],
             [
              0.3333333333333333,
              "#9c179e"
             ],
             [
              0.4444444444444444,
              "#bd3786"
             ],
             [
              0.5555555555555556,
              "#d8576b"
             ],
             [
              0.6666666666666666,
              "#ed7953"
             ],
             [
              0.7777777777777778,
              "#fb9f3a"
             ],
             [
              0.8888888888888888,
              "#fdca26"
             ],
             [
              1,
              "#f0f921"
             ]
            ],
            "type": "heatmap"
           }
          ],
          "histogram": [
           {
            "marker": {
             "pattern": {
              "fillmode": "overlay",
              "size": 10,
              "solidity": 0.2
             }
            },
            "type": "histogram"
           }
          ],
          "histogram2d": [
           {
            "colorbar": {
             "outlinewidth": 0,
             "ticks": ""
            },
            "colorscale": [
             [
              0,
              "#0d0887"
             ],
             [
              0.1111111111111111,
              "#46039f"
             ],
             [
              0.2222222222222222,
              "#7201a8"
             ],
             [
              0.3333333333333333,
              "#9c179e"
             ],
             [
              0.4444444444444444,
              "#bd3786"
             ],
             [
              0.5555555555555556,
              "#d8576b"
             ],
             [
              0.6666666666666666,
              "#ed7953"
             ],
             [
              0.7777777777777778,
              "#fb9f3a"
             ],
             [
              0.8888888888888888,
              "#fdca26"
             ],
             [
              1,
              "#f0f921"
             ]
            ],
            "type": "histogram2d"
           }
          ],
          "histogram2dcontour": [
           {
            "colorbar": {
             "outlinewidth": 0,
             "ticks": ""
            },
            "colorscale": [
             [
              0,
              "#0d0887"
             ],
             [
              0.1111111111111111,
              "#46039f"
             ],
             [
              0.2222222222222222,
              "#7201a8"
             ],
             [
              0.3333333333333333,
              "#9c179e"
             ],
             [
              0.4444444444444444,
              "#bd3786"
             ],
             [
              0.5555555555555556,
              "#d8576b"
             ],
             [
              0.6666666666666666,
              "#ed7953"
             ],
             [
              0.7777777777777778,
              "#fb9f3a"
             ],
             [
              0.8888888888888888,
              "#fdca26"
             ],
             [
              1,
              "#f0f921"
             ]
            ],
            "type": "histogram2dcontour"
           }
          ],
          "mesh3d": [
           {
            "colorbar": {
             "outlinewidth": 0,
             "ticks": ""
            },
            "type": "mesh3d"
           }
          ],
          "parcoords": [
           {
            "line": {
             "colorbar": {
              "outlinewidth": 0,
              "ticks": ""
             }
            },
            "type": "parcoords"
           }
          ],
          "pie": [
           {
            "automargin": true,
            "type": "pie"
           }
          ],
          "scatter": [
           {
            "fillpattern": {
             "fillmode": "overlay",
             "size": 10,
             "solidity": 0.2
            },
            "type": "scatter"
           }
          ],
          "scatter3d": [
           {
            "line": {
             "colorbar": {
              "outlinewidth": 0,
              "ticks": ""
             }
            },
            "marker": {
             "colorbar": {
              "outlinewidth": 0,
              "ticks": ""
             }
            },
            "type": "scatter3d"
           }
          ],
          "scattercarpet": [
           {
            "marker": {
             "colorbar": {
              "outlinewidth": 0,
              "ticks": ""
             }
            },
            "type": "scattercarpet"
           }
          ],
          "scattergeo": [
           {
            "marker": {
             "colorbar": {
              "outlinewidth": 0,
              "ticks": ""
             }
            },
            "type": "scattergeo"
           }
          ],
          "scattergl": [
           {
            "marker": {
             "colorbar": {
              "outlinewidth": 0,
              "ticks": ""
             }
            },
            "type": "scattergl"
           }
          ],
          "scattermap": [
           {
            "marker": {
             "colorbar": {
              "outlinewidth": 0,
              "ticks": ""
             }
            },
            "type": "scattermap"
           }
          ],
          "scattermapbox": [
           {
            "marker": {
             "colorbar": {
              "outlinewidth": 0,
              "ticks": ""
             }
            },
            "type": "scattermapbox"
           }
          ],
          "scatterpolar": [
           {
            "marker": {
             "colorbar": {
              "outlinewidth": 0,
              "ticks": ""
             }
            },
            "type": "scatterpolar"
           }
          ],
          "scatterpolargl": [
           {
            "marker": {
             "colorbar": {
              "outlinewidth": 0,
              "ticks": ""
             }
            },
            "type": "scatterpolargl"
           }
          ],
          "scatterternary": [
           {
            "marker": {
             "colorbar": {
              "outlinewidth": 0,
              "ticks": ""
             }
            },
            "type": "scatterternary"
           }
          ],
          "surface": [
           {
            "colorbar": {
             "outlinewidth": 0,
             "ticks": ""
            },
            "colorscale": [
             [
              0,
              "#0d0887"
             ],
             [
              0.1111111111111111,
              "#46039f"
             ],
             [
              0.2222222222222222,
              "#7201a8"
             ],
             [
              0.3333333333333333,
              "#9c179e"
             ],
             [
              0.4444444444444444,
              "#bd3786"
             ],
             [
              0.5555555555555556,
              "#d8576b"
             ],
             [
              0.6666666666666666,
              "#ed7953"
             ],
             [
              0.7777777777777778,
              "#fb9f3a"
             ],
             [
              0.8888888888888888,
              "#fdca26"
             ],
             [
              1,
              "#f0f921"
             ]
            ],
            "type": "surface"
           }
          ],
          "table": [
           {
            "cells": {
             "fill": {
              "color": "#EBF0F8"
             },
             "line": {
              "color": "white"
             }
            },
            "header": {
             "fill": {
              "color": "#C8D4E3"
             },
             "line": {
              "color": "white"
             }
            },
            "type": "table"
           }
          ]
         },
         "layout": {
          "annotationdefaults": {
           "arrowcolor": "#2a3f5f",
           "arrowhead": 0,
           "arrowwidth": 1
          },
          "autotypenumbers": "strict",
          "coloraxis": {
           "colorbar": {
            "outlinewidth": 0,
            "ticks": ""
           }
          },
          "colorscale": {
           "diverging": [
            [
             0,
             "#8e0152"
            ],
            [
             0.1,
             "#c51b7d"
            ],
            [
             0.2,
             "#de77ae"
            ],
            [
             0.3,
             "#f1b6da"
            ],
            [
             0.4,
             "#fde0ef"
            ],
            [
             0.5,
             "#f7f7f7"
            ],
            [
             0.6,
             "#e6f5d0"
            ],
            [
             0.7,
             "#b8e186"
            ],
            [
             0.8,
             "#7fbc41"
            ],
            [
             0.9,
             "#4d9221"
            ],
            [
             1,
             "#276419"
            ]
           ],
           "sequential": [
            [
             0,
             "#0d0887"
            ],
            [
             0.1111111111111111,
             "#46039f"
            ],
            [
             0.2222222222222222,
             "#7201a8"
            ],
            [
             0.3333333333333333,
             "#9c179e"
            ],
            [
             0.4444444444444444,
             "#bd3786"
            ],
            [
             0.5555555555555556,
             "#d8576b"
            ],
            [
             0.6666666666666666,
             "#ed7953"
            ],
            [
             0.7777777777777778,
             "#fb9f3a"
            ],
            [
             0.8888888888888888,
             "#fdca26"
            ],
            [
             1,
             "#f0f921"
            ]
           ],
           "sequentialminus": [
            [
             0,
             "#0d0887"
            ],
            [
             0.1111111111111111,
             "#46039f"
            ],
            [
             0.2222222222222222,
             "#7201a8"
            ],
            [
             0.3333333333333333,
             "#9c179e"
            ],
            [
             0.4444444444444444,
             "#bd3786"
            ],
            [
             0.5555555555555556,
             "#d8576b"
            ],
            [
             0.6666666666666666,
             "#ed7953"
            ],
            [
             0.7777777777777778,
             "#fb9f3a"
            ],
            [
             0.8888888888888888,
             "#fdca26"
            ],
            [
             1,
             "#f0f921"
            ]
           ]
          },
          "colorway": [
           "#636efa",
           "#EF553B",
           "#00cc96",
           "#ab63fa",
           "#FFA15A",
           "#19d3f3",
           "#FF6692",
           "#B6E880",
           "#FF97FF",
           "#FECB52"
          ],
          "font": {
           "color": "#2a3f5f"
          },
          "geo": {
           "bgcolor": "white",
           "lakecolor": "white",
           "landcolor": "#E5ECF6",
           "showlakes": true,
           "showland": true,
           "subunitcolor": "white"
          },
          "hoverlabel": {
           "align": "left"
          },
          "hovermode": "closest",
          "mapbox": {
           "style": "light"
          },
          "paper_bgcolor": "white",
          "plot_bgcolor": "#E5ECF6",
          "polar": {
           "angularaxis": {
            "gridcolor": "white",
            "linecolor": "white",
            "ticks": ""
           },
           "bgcolor": "#E5ECF6",
           "radialaxis": {
            "gridcolor": "white",
            "linecolor": "white",
            "ticks": ""
           }
          },
          "scene": {
           "xaxis": {
            "backgroundcolor": "#E5ECF6",
            "gridcolor": "white",
            "gridwidth": 2,
            "linecolor": "white",
            "showbackground": true,
            "ticks": "",
            "zerolinecolor": "white"
           },
           "yaxis": {
            "backgroundcolor": "#E5ECF6",
            "gridcolor": "white",
            "gridwidth": 2,
            "linecolor": "white",
            "showbackground": true,
            "ticks": "",
            "zerolinecolor": "white"
           },
           "zaxis": {
            "backgroundcolor": "#E5ECF6",
            "gridcolor": "white",
            "gridwidth": 2,
            "linecolor": "white",
            "showbackground": true,
            "ticks": "",
            "zerolinecolor": "white"
           }
          },
          "shapedefaults": {
           "line": {
            "color": "#2a3f5f"
           }
          },
          "ternary": {
           "aaxis": {
            "gridcolor": "white",
            "linecolor": "white",
            "ticks": ""
           },
           "baxis": {
            "gridcolor": "white",
            "linecolor": "white",
            "ticks": ""
           },
           "bgcolor": "#E5ECF6",
           "caxis": {
            "gridcolor": "white",
            "linecolor": "white",
            "ticks": ""
           }
          },
          "title": {
           "x": 0.05
          },
          "xaxis": {
           "automargin": true,
           "gridcolor": "white",
           "linecolor": "white",
           "ticks": "",
           "title": {
            "standoff": 15
           },
           "zerolinecolor": "white",
           "zerolinewidth": 2
          },
          "yaxis": {
           "automargin": true,
           "gridcolor": "white",
           "linecolor": "white",
           "ticks": "",
           "title": {
            "standoff": 15
           },
           "zerolinecolor": "white",
           "zerolinewidth": 2
          }
         }
        },
        "title": {
         "text": "Comparison Symbolic regression prediction against Ground Truth"
        },
        "xaxis": {
         "title": {
          "text": "x"
         }
        },
        "yaxis": {
         "title": {
          "text": "y"
         }
        }
       }
      }
     },
     "metadata": {},
     "output_type": "display_data"
    },
    {
     "name": "stdout",
     "output_type": "stream",
     "text": [
      "The 3D plot has been saved here: ../results/problem_1_2d_plot.html\n"
     ]
    }
   ],
   "source": [
    "if features.shape[1] == 2:\n",
    "    plot_3D(best_p, features, target,problem)\n",
    "\n",
    "if features.shape[1] == 1:\n",
    "    plot_2D(best_p, features, target,problem)"
   ]
  },
  {
   "cell_type": "code",
   "execution_count": 63,
   "metadata": {},
   "outputs": [
    {
     "name": "stdout",
     "output_type": "stream",
     "text": [
      "Requirement already satisfied: kaleido in /Users/maot/projects/CI2024_project-work/venv/lib/python3.10/site-packages (0.2.1)\n",
      "\n",
      "\u001b[1m[\u001b[0m\u001b[34;49mnotice\u001b[0m\u001b[1;39;49m]\u001b[0m\u001b[39;49m A new release of pip is available: \u001b[0m\u001b[31;49m23.0.1\u001b[0m\u001b[39;49m -> \u001b[0m\u001b[32;49m25.0\u001b[0m\n",
      "\u001b[1m[\u001b[0m\u001b[34;49mnotice\u001b[0m\u001b[1;39;49m]\u001b[0m\u001b[39;49m To update, run: \u001b[0m\u001b[32;49mpip install --upgrade pip\u001b[0m\n"
     ]
    }
   ],
   "source": [
    "! pip install kaleido"
   ]
  }
 ],
 "metadata": {
  "kernelspec": {
   "display_name": "venv",
   "language": "python",
   "name": "python3"
  },
  "language_info": {
   "codemirror_mode": {
    "name": "ipython",
    "version": 3
   },
   "file_extension": ".py",
   "mimetype": "text/x-python",
   "name": "python",
   "nbconvert_exporter": "python",
   "pygments_lexer": "ipython3",
   "version": "3.10.15"
  }
 },
 "nbformat": 4,
 "nbformat_minor": 2
}
