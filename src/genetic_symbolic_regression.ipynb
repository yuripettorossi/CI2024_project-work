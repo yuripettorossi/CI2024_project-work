{
 "cells": [
  {
   "cell_type": "markdown",
   "metadata": {
    "vscode": {
     "languageId": "plaintext"
    }
   },
   "source": [
    "# Symbolic Regression"
   ]
  },
  {
   "cell_type": "markdown",
   "metadata": {},
   "source": [
    "## Imports"
   ]
  },
  {
   "cell_type": "code",
   "execution_count": 1,
   "metadata": {
    "execution": {
     "iopub.execute_input": "2025-02-07T22:42:41.736104Z",
     "iopub.status.busy": "2025-02-07T22:42:41.735732Z",
     "iopub.status.idle": "2025-02-07T22:42:41.755545Z",
     "shell.execute_reply": "2025-02-07T22:42:41.754135Z",
     "shell.execute_reply.started": "2025-02-07T22:42:41.736066Z"
    },
    "trusted": true
   },
   "outputs": [
    {
     "data": {
      "text/plain": [
       "{'divide': 'warn', 'over': 'warn', 'under': 'ignore', 'invalid': 'warn'}"
      ]
     },
     "execution_count": 1,
     "metadata": {},
     "output_type": "execute_result"
    }
   ],
   "source": [
    "import numpy as np\n",
    "import random\n",
    "from copy import deepcopy\n",
    "import tqdm\n",
    "import matplotlib.pyplot as plt\n",
    "np.seterr(all='ignore')  # ignore all numpy warnings"
   ]
  },
  {
   "cell_type": "markdown",
   "metadata": {},
   "source": [
    "## Operators"
   ]
  },
  {
   "cell_type": "code",
   "execution_count": 2,
   "metadata": {
    "execution": {
     "iopub.execute_input": "2025-02-07T22:42:50.705221Z",
     "iopub.status.busy": "2025-02-07T22:42:50.704856Z",
     "iopub.status.idle": "2025-02-07T22:42:50.714036Z",
     "shell.execute_reply": "2025-02-07T22:42:50.712783Z",
     "shell.execute_reply.started": "2025-02-07T22:42:50.705188Z"
    },
    "trusted": true
   },
   "outputs": [],
   "source": [
    "# Define the set of operators that can be used in the GP algorithm.\n",
    "OPERATORS = [\n",
    "    {\"func_name\": \"add\", \"func\": np.add, \"arity\": 2, \"format_str\": \"({} + {})\"},\n",
    "    {\"func_name\": \"subtract\", \"func\": np.subtract, \"arity\": 2, \"format_str\": \"({} - {})\"},\n",
    "    {\"func_name\": \"multiply\", \"func\": np.multiply, \"arity\": 2, \"format_str\": \"({} * {})\"},\n",
    "    {\"func_name\": \"divide\", \"func\": np.divide, \"arity\": 2, \"format_str\": \"({} / {})\"},\n",
    "    {\"func_name\": \"power\", \"func\": np.power, \"arity\": 2, \"format_str\": \"({} ** {})\"},\n",
    "    {\"func_name\": \"sqrt\", \"func\": np.sqrt, \"arity\": 1, \"format_str\": \"sqrt({})\"},\n",
    "    {\"func_name\": \"log\", \"func\": np.log, \"arity\": 1, \"format_str\": \"log({})\"},\n",
    "    {\"func_name\": \"sin\", \"func\": np.sin, \"arity\": 1, \"format_str\": \"sin({})\"},\n",
    "    {\"func_name\": \"cos\", \"func\": np.cos, \"arity\": 1, \"format_str\": \"cos({})\"},\n",
    "    {\"func_name\": \"arctan\", \"func\": np.arctan, \"arity\": 1, \"format_str\": \"arctan({})\"},\n",
    "    {\"func_name\": \"sinh\", \"func\": np.sinh, \"arity\": 1, \"format_str\": \"sinh({})\"},\n",
    "    {\"func_name\": \"cosh\", \"func\": np.cosh, \"arity\": 1, \"format_str\": \"cosh({})\"},\n",
    "    {\"func_name\": \"tanh\", \"func\": np.tanh, \"arity\": 1, \"format_str\": \"tanh({})\"},\n",
    "    {\"func_name\": \"exp\", \"func\": np.exp, \"arity\": 1, \"format_str\": \"exp({})\"},  \n",
    "    {\"func_name\": \"abs\", \"func\": np.abs, \"arity\": 1, \"format_str\": \"abs({})\"}\n",
    "]"
   ]
  },
  {
   "cell_type": "markdown",
   "metadata": {},
   "source": [
    "## Initial Population generation"
   ]
  },
  {
   "cell_type": "code",
   "execution_count": 147,
   "metadata": {
    "execution": {
     "iopub.execute_input": "2025-02-08T03:26:53.430118Z",
     "iopub.status.busy": "2025-02-08T03:26:53.429760Z",
     "iopub.status.idle": "2025-02-08T03:26:53.439794Z",
     "shell.execute_reply": "2025-02-08T03:26:53.438492Z",
     "shell.execute_reply.started": "2025-02-08T03:26:53.430089Z"
    },
    "trusted": true
   },
   "outputs": [],
   "source": [
    "def generate_grow(max_depth, features):\n",
    "    \"\"\"\n",
    "    function that generates a random tree as candidate .\n",
    "    \"\"\"\n",
    "    #if it is first node or random number is greater than 0.5, then return either a variable or a constant\n",
    "    if max_depth == 0 or random.random() < 0.5:\n",
    "        if random.random() < 0.9:\n",
    "            return {\"type\": \"x\", \"name\": np.random.choice(range(np.array(features).shape[-1]))}  # Variable\n",
    "        else:\n",
    "            return {\"type\": \"constant\", \"value\": random.choice([x for x in range(-10, 11) if x != 0])}  # Costant\n",
    "    operator = random.choice(OPERATORS)\n",
    "    children = [generate_grow(max_depth - 1, features) for _ in range(operator[\"arity\"])]\n",
    "    return {\"type\": \"op\", \"operator\": operator, \"children\": children}\n",
    "\n",
    "def generate_full(max_depth, features):\n",
    "\n",
    "    if max_depth == 0:\n",
    "        if random.random() < 0.9:\n",
    "            return {\"type\": \"x\", \"name\": np.random.choice(range(np.array(features).shape[-1]))}\n",
    "        else:\n",
    "            return {\"type\": \"constant\", \"value\": random.choice([x for x in range(-10, 11) if x != 0])}\n",
    "    operator = random.choice(OPERATORS)\n",
    "    children = [generate_full(max_depth - 1, features) for _ in range(operator[\"arity\"])]\n",
    "    return {\"type\": \"op\", \"operator\": operator, \"children\": children}\n",
    "\n",
    "def generate_candidate_half_half(max_depth, features):\n",
    "    if random.random() < 0.5:\n",
    "        return generate_grow(max_depth, features)\n",
    "    else:\n",
    "        return generate_full(max_depth, features)"
   ]
  },
  {
   "cell_type": "markdown",
   "metadata": {},
   "source": [
    "## Mean Square Error (MSE)"
   ]
  },
  {
   "cell_type": "code",
   "execution_count": 5,
   "metadata": {
    "execution": {
     "iopub.execute_input": "2025-02-07T22:43:00.068183Z",
     "iopub.status.busy": "2025-02-07T22:43:00.067861Z",
     "iopub.status.idle": "2025-02-07T22:43:00.075903Z",
     "shell.execute_reply": "2025-02-07T22:43:00.074711Z",
     "shell.execute_reply.started": "2025-02-07T22:43:00.068159Z"
    },
    "trusted": true
   },
   "outputs": [],
   "source": [
    "def evaluate_function(node, data):\n",
    "    if node[\"type\"] == \"x\":\n",
    "        return data.T[node[\"name\"]]\n",
    "    if node[\"type\"] == \"constant\":\n",
    "        return np.full(data.shape[0], node[\"value\"])\n",
    "    # Evaluate children\n",
    "    children_values = [evaluate_function(child, data) for child in node[\"children\"]]\n",
    "    if any(child is None for child in children_values):\n",
    "        return None  # discard invalid functions\n",
    "\n",
    "    try:\n",
    "        result = node[\"operator\"][\"func\"](*children_values)\n",
    "        if np.any(np.isinf(result)) or np.any(np.isnan(result)):\n",
    "            return None  # discard invalid functions\n",
    "        result = np.clip(result, -1e10, 1e10)  # Limit the output range\n",
    "        return result\n",
    "    except (FloatingPointError, ZeroDivisionError, ValueError):\n",
    "        return None  # discard invalid functions\n",
    "\n",
    "def calculate_mse(function, data, target):\n",
    "    \"\"\"\n",
    "    Calculates the fitness of a function. If the function is valid, it computes the mean squared error (MSE).\n",
    "    If the function is invalid (None, NaN, Inf), it will return a high value to exclude it from the evolutionary process.\n",
    "    \"\"\"\n",
    "    result = evaluate_function(function, data)\n",
    "    if result is None:\n",
    "        return float(\"inf\")  # Penalize invalid functions\n",
    "    try:\n",
    "        # calculate the mean squared error (MSE) as a measure of fitness\n",
    "        error = np.mean((result - target) ** 2)\n",
    "        return error\n",
    "    except ValueError:  # If there is an error during the calculation of the MSE, penalize the function\n",
    "        return float(\"inf\")"
   ]
  },
  {
   "cell_type": "markdown",
   "metadata": {},
   "source": [
    "## Utilities"
   ]
  },
  {
   "cell_type": "code",
   "execution_count": 97,
   "metadata": {
    "execution": {
     "iopub.execute_input": "2025-02-08T01:51:44.098818Z",
     "iopub.status.busy": "2025-02-08T01:51:44.098421Z",
     "iopub.status.idle": "2025-02-08T01:51:44.106430Z",
     "shell.execute_reply": "2025-02-08T01:51:44.105107Z",
     "shell.execute_reply.started": "2025-02-08T01:51:44.098786Z"
    },
    "trusted": true
   },
   "outputs": [],
   "source": [
    "# Load the dataset\n",
    "def load_dataset(problem_n:int):\n",
    "    data_path = f\"/kaggle/input/homework-3/problem_{problem_n}.npz\"\n",
    "    data = np.load(data_path)\n",
    "    features = data['x'].T\n",
    "    target = data['y']\n",
    "    return features, target\n",
    "\n",
    "def get_individual_representation(node):\n",
    "    if node[\"type\"] == \"x\":\n",
    "        return node[\"name\"]\n",
    "    if node[\"type\"] == \"constant\":\n",
    "        return f\"{node['value']:.4f}\"\n",
    "    children = [get_individual_representation(child) for child in node[\"children\"]]\n",
    "    return node[\"operator\"][\"format_str\"].format(*children)\n",
    "\n",
    "def is_valid(function):\n",
    "    # check if there is at least one variable node in tree\n",
    "    if function['type'] == 'x':\n",
    "        return True\n",
    "    elif function['type'] == 'op':\n",
    "        for child in function['children']:\n",
    "            return is_valid(child)\n",
    "    return False"
   ]
  },
  {
   "cell_type": "markdown",
   "metadata": {},
   "source": [
    "## Selection Method"
   ]
  },
  {
   "cell_type": "code",
   "execution_count": 7,
   "metadata": {
    "execution": {
     "iopub.execute_input": "2025-02-07T22:43:05.966053Z",
     "iopub.status.busy": "2025-02-07T22:43:05.965667Z",
     "iopub.status.idle": "2025-02-07T22:43:05.971389Z",
     "shell.execute_reply": "2025-02-07T22:43:05.970186Z",
     "shell.execute_reply.started": "2025-02-07T22:43:05.966021Z"
    },
    "trusted": true
   },
   "outputs": [],
   "source": [
    "def tournament_selection(population, features, target, size):\n",
    "    selected = np.random.choice(population, size)\n",
    "    scores = [calculate_mse(p,features,target) for p in selected]\n",
    "    return selected[np.argmin(scores)]"
   ]
  },
  {
   "cell_type": "markdown",
   "metadata": {},
   "source": [
    "## Crossover"
   ]
  },
  {
   "cell_type": "markdown",
   "metadata": {},
   "source": [
    "### Crossover Helper Functions"
   ]
  },
  {
   "cell_type": "code",
   "execution_count": 8,
   "metadata": {
    "execution": {
     "iopub.execute_input": "2025-02-07T22:43:08.272739Z",
     "iopub.status.busy": "2025-02-07T22:43:08.272342Z",
     "iopub.status.idle": "2025-02-07T22:43:08.284129Z",
     "shell.execute_reply": "2025-02-07T22:43:08.282877Z",
     "shell.execute_reply.started": "2025-02-07T22:43:08.272707Z"
    },
    "trusted": true
   },
   "outputs": [],
   "source": [
    "def get_nodes(tree):\n",
    "    # function that retrieves all nodes of a tree\n",
    "    n = []\n",
    "    if \"children\" in tree:\n",
    "        for children in tree['children']:\n",
    "            n.extend(get_nodes(children))\n",
    "    n.append(tree)\n",
    "\n",
    "    return n\n",
    "    \n",
    "def get_leaf_nodes(node):\n",
    "    \"\"\"\n",
    "    Function that retrieves all leaf nodes given a parent node.\n",
    "    \"\"\"\n",
    "    # iif the node has no children, it's  a leaf\n",
    "    if \"children\" not in node or not node[\"children\"]:\n",
    "        return [node]\n",
    "\n",
    "    # otherwise, recursively explore the children to find the leaf nodes\n",
    "    leaf_nodes = []\n",
    "    for child in node[\"children\"]:\n",
    "        leaf_nodes.extend(get_leaf_nodes(child))\n",
    "\n",
    "    return leaf_nodes\n",
    "\n",
    "def replace_leaf(node, old_leaf, new_leaf):\n",
    "    \"\"\"\n",
    "    Function that recursively replaces a leaf in a tree.\n",
    "    \"\"\"\n",
    "    # if the current node is the old leaf, replace it with the new leaf\n",
    "    if node == old_leaf:\n",
    "        return deepcopy(new_leaf)\n",
    "    # If the current node has children, explore recursively.\n",
    "    if \"children\" in node:\n",
    "        node[\"children\"] = [replace_leaf(child, old_leaf, new_leaf) for child in node[\"children\"]]\n",
    "\n",
    "    return node\n",
    "    \n",
    "def get_operator_nodes(node):\n",
    "    \"\"\"\n",
    "    Returns all operator nodes (non-leaf) of a tree.\n",
    "    \"\"\"\n",
    "    nodes = []\n",
    "    if node.get(\"type\") == \"op\":\n",
    "        nodes.append(node)\n",
    "    if \"children\" in node:\n",
    "        for child in node[\"children\"]:\n",
    "            nodes.extend(get_operator_nodes(child))\n",
    "    return nodes\n",
    "\n",
    "def get_parent_node(node, target):\n",
    "    \"\"\"\n",
    "    Function that retrieves the parent of a target node.\n",
    "    \"\"\"\n",
    "\n",
    "    if \"children\" not in node or not node[\"children\"]:\n",
    "        return None\n",
    "\n",
    "    for child in node[\"children\"]:\n",
    "        if child is target:\n",
    "            return node\n",
    "        result = get_parent_node(child, target)\n",
    "        if result:\n",
    "            return result\n",
    "\n",
    "    return None\n",
    "\n",
    "def get_heigth_subtree(node):\n",
    "    \"\"\"\n",
    "    Function that calculates the heigth of a subtree from the leaves towards the given node.\n",
    "    \"\"\"\n",
    "\n",
    "    if \"children\" not in node or not node[\"children\"]:\n",
    "        # If the node has no children, it is a leaf and has height 0\n",
    "        return 0\n",
    "    return 1 + max(get_heigth_subtree(child) for child in node[\"children\"])\n",
    "\n",
    "def select_similar_height_node(node, target_height):\n",
    "    \"\"\"\n",
    "    Function that returns a node in a tree with the closest heigth to the target one .\n",
    "    Selects a node in a tree with a height similar to the target_height.\n",
    "    \"\"\"\n",
    "\n",
    "    all_nodes = get_nodes(node)\n",
    "    best_match = None\n",
    "    min_diff = float(\"inf\")\n",
    "    for n in all_nodes:\n",
    "        height = get_heigth_subtree(n)\n",
    "        diff = abs(height - target_height)\n",
    "        if diff < min_diff:\n",
    "            min_diff = diff\n",
    "            best_match = n\n",
    "    return best_match"
   ]
  },
  {
   "cell_type": "markdown",
   "metadata": {},
   "source": [
    "### Crossover functions"
   ]
  },
  {
   "cell_type": "code",
   "execution_count": 9,
   "metadata": {
    "execution": {
     "iopub.execute_input": "2025-02-07T22:43:11.676872Z",
     "iopub.status.busy": "2025-02-07T22:43:11.676459Z",
     "iopub.status.idle": "2025-02-07T22:43:11.691250Z",
     "shell.execute_reply": "2025-02-07T22:43:11.689891Z",
     "shell.execute_reply.started": "2025-02-07T22:43:11.676841Z"
    },
    "trusted": true
   },
   "outputs": [],
   "source": [
    "def crossover_random_height(parent_1, parent_2):\n",
    "    # function to perform crossover between two trees of different height , swapping subtrees with a random height\n",
    "    new_parent_1 = deepcopy(parent_1)\n",
    "    new_parent_2 = deepcopy(parent_2)\n",
    "\n",
    "    # Verify that both parents are operator nodes with valid children\n",
    "    if new_parent_1[\"type\"] != \"op\" or new_parent_2[\"type\"] != \"op\":\n",
    "        return new_parent_1  # No crossover possible, return the first parent\n",
    "    # Verify that both parents have children\n",
    "    if len(new_parent_1[\"children\"]) == 0 or len(new_parent_2[\"children\"]) == 0:\n",
    "        return new_parent_1  # No crossover possible, return the first parent\n",
    "\n",
    "    # 90% of swapping non-leaf nodes (subtrees)\n",
    "    if random.random() < 0.9:\n",
    "\n",
    "        if len(new_parent_1[\"children\"]) != new_parent_1[\"operator\"][\"arity\"] or len(new_parent_2[\"children\"]) != new_parent_2[\"operator\"][\"arity\"]:\n",
    "            return new_parent_1  # No crossover possible, return the first parent\n",
    "        # Select a random crossover point in parent_1 and parent_2\n",
    "        swapping_point_1 = random.randint(0, len(new_parent_1[\"children\"]) - 1)\n",
    "        swapping_point_2 = random.randint(0, len(new_parent_2[\"children\"]) - 1)\n",
    "\n",
    "        # Swap the subtrees\n",
    "        new_parent_1[\"children\"][swapping_point_1], new_parent_2[\"children\"][swapping_point_2] = (\n",
    "            deepcopy(new_parent_2[\"children\"][swapping_point_2]),\n",
    "            deepcopy(new_parent_1[\"children\"][swapping_point_1]),\n",
    "        )\n",
    "    else:\n",
    "        # 10% probability of swapping leaf nodes\n",
    "        leaves_parent_1 = get_leaf_nodes(new_parent_1)\n",
    "        leaves_parent_2 = get_leaf_nodes(new_parent_2)\n",
    "\n",
    "        if not leaves_parent_1 or not leaves_parent_2:\n",
    "            return new_parent_1  # No crossover possible if there are no leaves\n",
    "\n",
    "        # Select a random leaf from each parent\n",
    "        leaf_1 = random.choice(leaves_parent_1)\n",
    "        leaf_2 = random.choice(leaves_parent_2)\n",
    "\n",
    "        # Replace the leaf\n",
    "        new_parent_1 = replace_leaf(new_parent_1, leaf_1, leaf_2)\n",
    "        new_parent_2 = replace_leaf(new_parent_2, leaf_2, leaf_1)\n",
    "\n",
    "    return new_parent_1, new_parent_2\n",
    "\n",
    "def crossover_similar_height(p1,p2):\n",
    "    # perform crossover with two random subtree with similar height\n",
    "    offspring_1 = deepcopy(p1)\n",
    "    offspring_2 = deepcopy(p2)\n",
    "    \n",
    "    # choose a random subtree from p1\n",
    "    subtree_1 = random.choice(get_nodes(offspring_1))\n",
    "    # Get the height of the subtree\n",
    "    height1 = get_heigth_subtree(subtree_1)\n",
    "\n",
    "    # select similar subtree from p2\n",
    "    subtree_2 = select_similar_height_node(offspring_2, height1)\n",
    "\n",
    "    offspring_1 = replace_leaf(offspring_1, subtree_1, subtree_2)\n",
    "    offspring_2 = replace_leaf(offspring_2, subtree_2, subtree_1)\n",
    "\n",
    "    return offspring_1, offspring_2\n",
    "    \n",
    "def crossover_fixed_height(parent_1, parent_2):\n",
    "    # Perform a crossover between two trees, swapping subtrees with a fixed maximum height\n",
    "    new_parent_1 = deepcopy(parent_1)\n",
    "    new_parent_2 = deepcopy(parent_2)\n",
    "\n",
    "    # Verify that both parents are operator nodes with valid children\n",
    "    if new_parent_1[\"type\"] != \"op\" or new_parent_2[\"type\"] != \"op\":\n",
    "        return new_parent_1  # No crossover possible, return the first parent\n",
    "    if len(new_parent_1[\"children\"]) == 0 or len(new_parent_2[\"children\"]) == 0:\n",
    "        return new_parent_1  # No crossover possible, return the first parent\n",
    "    if random.random() < 0.9:\n",
    "        # Selects a random swap point in parent_1 with a maximum height of 3\n",
    "        operator_nodes_1 = [node for node in get_operator_nodes(new_parent_1)\n",
    "                        if get_heigth_subtree(node) <= 2]\n",
    "        operator_nodes_2 = [node for node in get_operator_nodes(new_parent_2)\n",
    "                        if get_heigth_subtree(node) <= 2]\n",
    "\n",
    "        if not operator_nodes_1 or not operator_nodes_2:\n",
    "            return new_parent_1  # No valid swap point in parent_1\n",
    "\n",
    "        # Select a random swap point in parent_1 and parent_2\n",
    "        swapping_point_1 = random.choice(operator_nodes_1)\n",
    "        swapping_point_2 = random.choice(operator_nodes_2)\n",
    "\n",
    "        new_parent_1 = replace_leaf(new_parent_1, swapping_point_1, swapping_point_2)\n",
    "        new_parent_2 = replace_leaf(new_parent_2, swapping_point_2, swapping_point_1)\n",
    "    else:\n",
    "        leaves_parent_1 = get_leaf_nodes(new_parent_1)\n",
    "        leaves_parent_2 = get_leaf_nodes(new_parent_2)\n",
    "\n",
    "        if not leaves_parent_1 or not leaves_parent_2:\n",
    "            return new_parent_1  # No crossover possible if there are no leaves\n",
    "        # Select a random leaf from each parent\n",
    "        leaf_1 = random.choice(leaves_parent_1)\n",
    "        leaf_2 = random.choice(leaves_parent_2)\n",
    "\n",
    "        # Replace the leaf\n",
    "        new_parent_1 = replace_leaf(new_parent_1, leaf_1, leaf_2)\n",
    "        new_parent_2 = replace_leaf(new_parent_2, leaf_2, leaf_1)\n",
    "\n",
    "    return new_parent_1, new_parent_2"
   ]
  },
  {
   "cell_type": "markdown",
   "metadata": {},
   "source": [
    "## Mutation"
   ]
  },
  {
   "cell_type": "markdown",
   "metadata": {},
   "source": [
    "### Mutation helper functions"
   ]
  },
  {
   "cell_type": "code",
   "execution_count": 10,
   "metadata": {
    "execution": {
     "iopub.execute_input": "2025-02-07T22:43:15.016488Z",
     "iopub.status.busy": "2025-02-07T22:43:15.016127Z",
     "iopub.status.idle": "2025-02-07T22:43:15.023813Z",
     "shell.execute_reply": "2025-02-07T22:43:15.022346Z",
     "shell.execute_reply.started": "2025-02-07T22:43:15.016458Z"
    },
    "trusted": true
   },
   "outputs": [],
   "source": [
    "def get_subtrees_with_height(node, parent=None, index=None, current_height=0):\n",
    "        # Retrieves all subtrees (pointers to nodes, parents, indices, and heights).\n",
    "        subtrees = []\n",
    "        if node[\"type\"] == \"op\":  # only consider operator nodes\n",
    "            for i, child in enumerate(node[\"children\"]):\n",
    "                subtree_height = get_heigth_subtree(child)\n",
    "                subtrees.append((node, i, subtree_height))  # Store the parent, index, and height\n",
    "                subtrees.extend(get_subtrees_with_height(child, node, i, current_height + 1))\n",
    "        return subtrees\n",
    "\n",
    "def perform_erc_mutation(offspring):\n",
    "# Perform the ERC mutation\n",
    "    updated = False\n",
    "    while not updated:\n",
    "        updates = random.uniform(-1, 1)  # Generate a random value\n",
    "        old_val = offspring['value']\n",
    "        new_val = updates + old_val\n",
    "        if new_val != 0:  # Ensure the value is not zero\n",
    "            return {\"type\": \"constant\", \"value\": new_val}"
   ]
  },
  {
   "cell_type": "markdown",
   "metadata": {},
   "source": [
    "### Mutation functions"
   ]
  },
  {
   "cell_type": "code",
   "execution_count": 11,
   "metadata": {
    "execution": {
     "iopub.execute_input": "2025-02-07T22:43:18.092752Z",
     "iopub.status.busy": "2025-02-07T22:43:18.092229Z",
     "iopub.status.idle": "2025-02-07T22:43:18.101093Z",
     "shell.execute_reply": "2025-02-07T22:43:18.099689Z",
     "shell.execute_reply.started": "2025-02-07T22:43:18.092711Z"
    },
    "trusted": true
   },
   "outputs": [],
   "source": [
    "def hoist_mutation(function):\n",
    "    subtree = random.choice(get_nodes(function))\n",
    "    return subtree\n",
    "\n",
    "def mutate_erc(function, features):\n",
    "    \n",
    "    offspring = deepcopy(function)\n",
    "    \n",
    "    # if constant -> mutate value\n",
    "    if offspring[\"type\"] == \"constant\":\n",
    "        return perform_erc_mutation(offspring)\n",
    "\n",
    "    # If the current node is an operator, recursively mutate the children\n",
    "    elif function[\"type\"] == \"op\":\n",
    "        child_idx = random.randint(0, len(function[\"children\"]) - 1)\n",
    "        function[\"children\"][child_idx] = mutate_erc(function[\"children\"][child_idx], features)\n",
    "\n",
    "    return function\n",
    "\n",
    "def swap_mutation(function):\n",
    " \n",
    "    function = deepcopy(function)\n",
    "    # Get all subtrees with their heights\n",
    "    subtrees = get_subtrees_with_height(function)\n",
    "    if len(subtrees) < 2:\n",
    "        return function  # No mutation possible\n",
    "    # Select a random subtree\n",
    "    parent_1, idx1, height1 = random.choice(subtrees)\n",
    "\n",
    "    subtrees_sorted_by_height_diff = sorted(\n",
    "        subtrees,\n",
    "        key=lambda x: abs(x[2] - height1)  # Sort by the absolute difference in height\n",
    "    )\n",
    "\n",
    "   # filter out subtrees that are too similar in height\n",
    "    for parent_2, idx2, _ in subtrees_sorted_by_height_diff:\n",
    "        if (parent_1, idx1) != (parent_2, idx2):  # Ensure the subtrees are different\n",
    "            # Swap the subtrees\n",
    "            parent_1[\"children\"][idx1], parent_2[\"children\"][idx2] = (\n",
    "                deepcopy(parent_2[\"children\"][idx2]),\n",
    "                deepcopy(parent_1[\"children\"][idx1]),\n",
    "            )\n",
    "            break\n",
    "\n",
    "    return function"
   ]
  },
  {
   "cell_type": "markdown",
   "metadata": {},
   "source": [
    "## Evolution "
   ]
  },
  {
   "cell_type": "code",
   "execution_count": 148,
   "metadata": {
    "execution": {
     "iopub.execute_input": "2025-02-08T03:27:01.937259Z",
     "iopub.status.busy": "2025-02-08T03:27:01.936922Z",
     "iopub.status.idle": "2025-02-08T03:27:01.951374Z",
     "shell.execute_reply": "2025-02-08T03:27:01.950045Z",
     "shell.execute_reply.started": "2025-02-08T03:27:01.937235Z"
    },
    "trusted": true
   },
   "outputs": [],
   "source": [
    "def evolve_population(features, data, target, t_size):\n",
    "    \n",
    "    # Initialize the population with valid individuals only\n",
    "    population = []\n",
    "    while len(population) < POP_SIZE:\n",
    "        candidate = generate_candidate_half_half(MAX_DEPTH, data)\n",
    "        if evaluate_function(candidate, data) is not None:  # Ensure the function is valid\n",
    "            population.append(candidate)\n",
    "\n",
    "    best_MSE = np.inf\n",
    "    history = []\n",
    "    repetition = 0\n",
    "    # Evolve the population\n",
    "    for _ in tqdm.tqdm(range(MAX_GENERATIONS)):\n",
    "        offspring_list = []\n",
    "            \n",
    "        # Generate new individuals for the population\n",
    "        while len(offspring_list) < OFFSPRING_SIZE:\n",
    "            \n",
    "            parent_1 = tournament_selection(population, data, target, t_size)\n",
    "            # sample parent 2 if crossover\n",
    "            if random.random() > MUTATION_PROB:\n",
    "                # Crossover\n",
    "                parent_2 = tournament_selection(population, data, target, t_size)\n",
    "                if random.random() < 0.7:\n",
    "                    # choose between crossover_similar_height and crossover_random_height\n",
    "                    if random.random() < 0.5:\n",
    "                        offspring = crossover_random_height(parent_1, parent_2)\n",
    "                    else:\n",
    "                        offspring = crossover_similar_height(parent_1, parent_2)\n",
    "                else:\n",
    "                    # exploitation\n",
    "                    offspring = crossover_fixed_height(parent_1, parent_2)\n",
    "                \n",
    "            else:\n",
    "                # Mutation\n",
    "                needle = random.random()\n",
    "                if needle <= ERC_RATE:\n",
    "                    offspring = mutate_erc(parent_1, features)\n",
    "                elif needle > ERC_RATE and needle <= ERC_RATE + NEW_TREE_RATE:\n",
    "                    offspring = generate_candidate_half_half(MAX_DEPTH, data)\n",
    "                elif needle > ERC_RATE + NEW_TREE_RATE and needle <= ERC_RATE + NEW_TREE_RATE + HOIST_RATE:\n",
    "                    offspring = hoist_mutation(parent_1)\n",
    "                else:\n",
    "                    assert needle > ERC_RATE + NEW_TREE_RATE + HOIST_RATE, \"Error in choosing mutation method!\"\n",
    "                    offspring = swap_mutation(parent_1)\n",
    "    \n",
    "            # Validate the offspring\n",
    "            if type(offspring) == tuple:\n",
    "                for child in offspring:\n",
    "                    if is_valid(child) and evaluate_function(child, data) is not None:\n",
    "                        offspring_list.append(child)\n",
    "            else:\n",
    "                if is_valid(offspring) and evaluate_function(offspring, data) is not None:\n",
    "                    offspring_list.append(offspring)\n",
    "        \n",
    "        # Combine old population with new offsprings\n",
    "        population.extend(offspring_list)\n",
    "        mse_scores = [calculate_mse(tree, data, target) for tree in population]\n",
    "        \n",
    "        # Sort the combined population by their MSE scores\n",
    "        stack_pop = np.stack((population,mse_scores),axis=1)\n",
    "        sorted_pop = np.array(sorted(stack_pop, key=lambda i: i[-1]))\n",
    "        # save top individuals in population\n",
    "        population = sorted_pop[:TOP_INDIVIDUAL,0].tolist()\n",
    "        # add minory of individuals in bottom of population (usually it is not necessary)\n",
    "        # population.extend(sorted_pop[-BOTTOM_INDIVIDUAL:,0].tolist())\n",
    "\n",
    "        # update best function\n",
    "        best_mse_gen = calculate_mse(population[0], data, target)\n",
    "        if best_mse_gen < best_MSE:\n",
    "            best_function = population[0]\n",
    "            best_MSE = best_mse_gen\n",
    "            \n",
    "        history.append(best_MSE)\n",
    "\n",
    "        # implement a counter to start from scratch if mse gets stuck\n",
    "        if best_mse_gen == best_MSE:\n",
    "            repetition += 1\n",
    "        else:\n",
    "            repetition = 0\n",
    "            \n",
    "        if repetition > 25:\n",
    "            # initialize population from scratch\n",
    "            best_function = deepcopy(population[0])\n",
    "            population = []\n",
    "            repetition = 0\n",
    "            while len(population) < POP_SIZE:\n",
    "                candidate = generate_candidate_half_half(MAX_DEPTH, data)\n",
    "                if evaluate_function(candidate, data) is not None:  # Ensure the function is valid\n",
    "                    population.append(candidate)\n",
    "            population.append(best_function)\n",
    "        \n",
    "        if best_MSE < 1e-20:\n",
    "            break\n",
    "            \n",
    "    plt.figure(figsize=(10,5))\n",
    "    plt.plot(history)\n",
    "    plt.show()\n",
    "    return best_function, best_MSE"
   ]
  },
  {
   "cell_type": "markdown",
   "metadata": {},
   "source": [
    "## Symbolic Regression"
   ]
  },
  {
   "cell_type": "code",
   "execution_count": 149,
   "metadata": {
    "execution": {
     "iopub.execute_input": "2025-02-08T03:27:05.552459Z",
     "iopub.status.busy": "2025-02-08T03:27:05.552090Z",
     "iopub.status.idle": "2025-02-08T03:30:36.595916Z",
     "shell.execute_reply": "2025-02-08T03:30:36.594691Z",
     "shell.execute_reply.started": "2025-02-08T03:27:05.552425Z"
    },
    "trusted": true
   },
   "outputs": [
    {
     "name": "stderr",
     "output_type": "stream",
     "text": [
      "100%|██████████| 300/300 [03:30<00:00,  1.42it/s]\n"
     ]
    },
    {
     "data": {
      "image/png": "[encoded data removed]",
      "text/plain": [
       "<Figure size 1000x500 with 1 Axes>"
      ]
     },
     "metadata": {},
     "output_type": "display_data"
    },
    {
     "name": "stdout",
     "output_type": "stream",
     "text": [
      "Best function: (((((((0 * 0) + tanh(6.5153)) - sinh(1)) + (((((0 * 0) + tanh(6.5153)) + tanh(6.5153)) + tanh(6.5153)) - sinh(1))) - 2) - 2) - 2)\n",
      " MSE: 3772.06\n"
     ]
    }
   ],
   "source": [
    "# Parameters defining the evolution of the GP algorithm.\n",
    "\n",
    "# max depth of random initialized tree\n",
    "MAX_DEPTH = 5\n",
    "# population size\n",
    "POP_SIZE = 500\n",
    "# size of new generation\n",
    "OFFSPRING_SIZE = 256\n",
    "# portion of population to pass to next generation\n",
    "TOP_INDIVIDUAL = 256 \n",
    "# amount of worse part of population who survive to next generation\n",
    "BOTTOM_INDIVIDUAL = 50\n",
    "# number of generation to evolve\n",
    "MAX_GENERATIONS = 300\n",
    "# size of tournament to select parent\n",
    "TOURNAMENT_SIZE = 5 \n",
    "# probability of mutation to happen, probability of crossover = 1-P(mutation)\n",
    "MUTATION_PROB = 0.05\n",
    "# conditioned probability of ERC mutation\n",
    "ERC_RATE = 0.2\n",
    "# conditioned probability of initialize a new tree\n",
    "NEW_TREE_RATE = 0.3\n",
    "# conditioned probability of hoist mutation\n",
    "HOIST_RATE = 0.3\n",
    "assert ERC_RATE + NEW_TREE_RATE + HOIST_RATE < 1, 'Error in mutations rate!'\n",
    "# number of sample of original dataset\n",
    "SAMPLES = 1000\n",
    "\n",
    "# Load the dataset\n",
    "problem = 3\n",
    "file_path = f\"/kaggle/input/homework-3/problem_{problem}.npz\"\n",
    "features, target = load_dataset(problem)\n",
    "features_name = [f\"x{i}\" for i in range(features.shape[-1])]\n",
    "\n",
    "# sample dataset to speed up execution\n",
    "if features.shape[0] > SAMPLES:\n",
    "    idx = np.random.choice(features.shape[0], SAMPLES, replace=False)\n",
    "    features = np.array(features[idx])\n",
    "    target = np.array(target[idx])\n",
    "\n",
    "# run algorithm\n",
    "best_tree, best_MSE = evolve_population(features_name, features, target, TOURNAMENT_SIZE)\n",
    "print(f\"Best function: {get_individual_representation(best_tree)}\\n MSE: {100*best_MSE:.2f}\")"
   ]
  }
 ],
 "metadata": {
  "kernelspec": {
   "display_name": "Python 3",
   "language": "python",
   "name": "python3"
  },
  "language_info": {
   "codemirror_mode": {
    "name": "ipython",
    "version": 3
   },
   "file_extension": ".py",
   "mimetype": "text/x-python",
   "name": "python",
   "nbconvert_exporter": "python",
   "pygments_lexer": "ipython3",
   "version": "3.10.12"
  }
 },
 "nbformat": 4,
 "nbformat_minor": 4
}
